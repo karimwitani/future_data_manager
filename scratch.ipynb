{
 "cells": [
  {
   "cell_type": "code",
   "execution_count": null,
   "metadata": {},
   "outputs": [],
   "source": [
    "import yfinance as yf \n",
    "import time\n",
    "import datetime\n",
    "import pandas as pd\n",
    "import sqlite3"
   ]
  },
  {
   "cell_type": "code",
   "execution_count": null,
   "metadata": {},
   "outputs": [],
   "source": [
    "month_symbol_mapper = {\n",
    "    'jul':'N',\n",
    "    'aug':'Q',\n",
    "    'sep':'U',\n",
    "    'oct':'V',\n",
    "    'nov':'X',\n",
    "    'dec':'Z',\n",
    "    'jan':'F',\n",
    "    'feb':'G',\n",
    "    'mar':'H',\n",
    "    'apr':'J',\n",
    "    'may':'K',\n",
    "    'jun':'M',\n",
    "}\n",
    "\n",
    "def oil_futures_ticker_generator(year='22',month='jan'):\n",
    "    ticker =  f\"CL{month_symbol_mapper[month]}{year}.NYM\"\n",
    "    print(ticker)\n",
    "    return ticker\n",
    "\n",
    "def get_yahoo_data(ticker=\"CLN22.NYM\",start=None,end=None):\n",
    "    yahoo_ticker_interface = yf.Ticker(ticker)\n",
    "    if start is None or end is None:        \n",
    "        price_data = yahoo_ticker_interface.history(period='max')\n",
    "    else:\n",
    "        price_data = yahoo_ticker_interface.history(start=start,end=end)\n",
    "    price_data.drop(labels=['Dividends','Stock Splits'], axis=1, inplace=True)\n",
    "    price_data['Ticker']=ticker\n",
    "    return price_data\n",
    "\n",
    "def get_front_month():\n",
    "    month_string = datetime.datetime(datetime.date.today().year,datetime.date.today().month+2,1).strftime('%b').lower()\n",
    "    month_number = datetime.datetime(datetime.date.today().year,datetime.date.today().month+2,1).strftime('%-m')\n",
    "    return {'month_string': month_string, 'month_number':month_number}\n",
    "\n",
    "def get_back_month():\n",
    "    month_string = datetime.datetime(datetime.date.today().year,datetime.date.today().month+3,1).strftime('%b').lower()\n",
    "    month_number = datetime.datetime(datetime.date.today().year,datetime.date.today().month+3,1).strftime('%-m')\n",
    "    return {'month_string': month_string, 'month_number':month_number}\n",
    "\n",
    "def get_current_cycle():\n",
    "    cycle_start = datetime.datetime(datetime.date.today().year,datetime.date.today().month,1)\n",
    "    today = datetime.date.today()\n",
    "    return {'cycle_start':cycle_start, 'today':today}\n"
   ]
  },
  {
   "cell_type": "code",
   "execution_count": null,
   "metadata": {},
   "outputs": [],
   "source": [
    "front_month = get_front_month()\n",
    "back_month = get_back_month()\n",
    "front_month_ticker = oil_futures_ticker_generator(month= front_month['month_string'])\n",
    "back_month_ticker = oil_futures_ticker_generator(month= back_month['month_string'])\n",
    "current_cycle = get_current_cycle()\n",
    "front_month_data = get_yahoo_data(ticker=front_month_ticker,start=current_cycle['cycle_start'],end=current_cycle['today'])\n",
    "back_month_data = get_yahoo_data(ticker=back_month_ticker,start=current_cycle['cycle_start'],end=current_cycle['today'])\n"
   ]
  },
  {
   "cell_type": "code",
   "execution_count": null,
   "metadata": {},
   "outputs": [],
   "source": [
    "front_month_data.head()\n"
   ]
  },
  {
   "cell_type": "code",
   "execution_count": null,
   "metadata": {},
   "outputs": [],
   "source": [
    "back_month_data.head()"
   ]
  },
  {
   "cell_type": "code",
   "execution_count": null,
   "metadata": {},
   "outputs": [],
   "source": [
    "merged = pd.merge(front_month_data, back_month_data, left_index=True, right_index=True, how='inner', suffixes=('_front','_back'))\n",
    "merged['Time_Spread']= merged['Close_back']-merged['Close_front']\n",
    "merged"
   ]
  },
  {
   "cell_type": "code",
   "execution_count": null,
   "metadata": {},
   "outputs": [],
   "source": [
    "oil = yf.Ticker(\"CLN22.NYM\")\n",
    "#oil.history(start=datetime.datetime(datetime.date.today().year,datetime.date.today().month-2,1))\n",
    "\n",
    "oil = get_yahoo_data(ticker=\"CLN22.NYM\", start=datetime.datetime(datetime.date.today().year,datetime.date.today().month-2,1), end=datetime.datetime.now())\n",
    "oil\n",
    "# ticker = oil_futures_ticker_generator(year='22',month='jul')\n",
    "# hist['ticker']=ticker\n",
    "# hist.head()\n",
    "# hist.index"
   ]
  },
  {
   "cell_type": "code",
   "execution_count": null,
   "metadata": {},
   "outputs": [],
   "source": [
    "datetime.datetime(datetime.date.today().year,datetime.date.today().month,1)\n",
    "#datetime.datetime(datetime.date.today().year,datetime.date.today().month+3,1).strftime('%h').lower()\n",
    "#datetime.date.today().strftime('%b').lower()\n",
    "# datetime.datetime.now()\n",
    "#datetime.datetime(datetime.date.today().year,datetime.date.today().month+2,1).strftime('%-m')"
   ]
  },
  {
   "cell_type": "markdown",
   "metadata": {},
   "source": [
    "## Database connectivity"
   ]
  },
  {
   "cell_type": "code",
   "execution_count": null,
   "metadata": {},
   "outputs": [],
   "source": [
    "def create_connection(db_file):\n",
    "    \"\"\" create a database connection to the SQLite database\n",
    "        specified by db_file\n",
    "    :param db_file: database file\n",
    "    :return: Connection object or None\n",
    "    \"\"\"\n",
    "    conn = None\n",
    "    try:\n",
    "        conn = sqlite3.connect(db_file)\n",
    "    except Exception as e:\n",
    "        print(e)\n",
    "\n",
    "    return conn"
   ]
  },
  {
   "cell_type": "code",
   "execution_count": null,
   "metadata": {},
   "outputs": [],
   "source": [
    "conn = create_connection('futures.db')\n",
    "cur = conn.cursor()\n",
    "cur.execute(\"SELECT TICKER, MAX(DATE) FROM OIL_FUTURES_YAHOO WHERE TICKER = 'CLU22.NYM' GROUP BY TICKER\")\n",
    "res = cur.fetchone()\n",
    "print(type(res))\n",
    "print(res)\n",
    "print(type(res[0][1]))\n",
    "datetime_obj = datetime.datetime.strptime(res[1], '%Y-%m-%d')\n",
    "print(datetime_obj)\n",
    "print(type(datetime_obj))\n",
    "if datetime_obj <= datetime.datetime.now():\n",
    "    print('True')\n",
    "else:\n",
    "    print('False')\n"
   ]
  },
  {
   "cell_type": "code",
   "execution_count": null,
   "metadata": {},
   "outputs": [],
   "source": [
    "def create_entry(conn, row):\n",
    "    \"\"\"\n",
    "    Create a new futures price entry in the database's OIL_FUTURES_YAHOO table\n",
    "    :param conn:\n",
    "    :param row:\n",
    "    :return: void\n",
    "    \"\"\"\n",
    "    sql = '''INSERT INTO OIL_FUTURES_YAHOO(TICKER, DATE, OPEN, HIGH, LOW, CLOSE, VOLUME)\n",
    "            VALUES(?,?,?,?,?,?,?)'''\n",
    "    try:\n",
    "        cur = conn.cursor()\n",
    "        cur.execute(sql,row)\n",
    "        conn.commit()\n",
    "    except Exception as e:\n",
    "        print(e)"
   ]
  },
  {
   "cell_type": "code",
   "execution_count": null,
   "metadata": {},
   "outputs": [],
   "source": [
    "for index,row in back_month_data.iterrows():\n",
    "    print((row[5],index.date(),row[0],row[1],row[2],row[3],row[4]))\n",
    "    row = (row[5],index.date(),row[0],row[1],row[2],row[3],row[4])\n",
    "    create_entry(conn, row)\n"
   ]
  },
  {
   "cell_type": "markdown",
   "metadata": {},
   "source": [
    "## Creating a class"
   ]
  },
  {
   "cell_type": "code",
   "execution_count": 1,
   "metadata": {},
   "outputs": [],
   "source": [
    "import yfinance as yf\n",
    "import sqlite3\n",
    "#from yf_interface.base import yahoo_futures_interface\n",
    "from configparser import ConfigParser\n",
    "import datetime"
   ]
  },
  {
   "cell_type": "code",
   "execution_count": 8,
   "metadata": {},
   "outputs": [],
   "source": [
    "#SETUP CONFIG OBJECT\n",
    "config_object = ConfigParser()\n",
    "config_object.read(\"config.ini\")\n",
    "server_config = config_object[\"SERVERINFO\"]\n",
    "\n",
    "\n",
    "\n",
    "month_symbol_mapper = {\n",
    "    '1':{'string':'jan','code':'F'},\n",
    "    '2':{'string':'feb','code':'G'},\n",
    "    '3':{'string':'mar','code':'H'},\n",
    "    '4':{'string':'apr','code':'J'},\n",
    "    '5':{'string':'may','code':'K'},\n",
    "    '6':{'string':'jun','code':'M'},\n",
    "    '7':{'string':'jul','code':'N'},\n",
    "    '8':{'string':'aug','code':'Q'},\n",
    "    '9':{'string':'sep','code':'U'},\n",
    "    '10':{'string':'oct','code':'V'},\n",
    "    '11':{'string':'nov','code':'X'},\n",
    "    '12':{'string':'dev','code':'Z'},\n",
    "}\n",
    "\n",
    "class yahoo_futures_interface:\n",
    "    def __init__(self, year='22', month='1'):\n",
    "        self.year = year\n",
    "        self.month = month\n",
    "\n",
    "    def _oil_futures_ticker_generator(self):\n",
    "        self.ticker = f\"CL{month_symbol_mapper[self.month]['code']}{self.year}.NYM\"\n",
    "        print(self.ticker)\n",
    "\n",
    "    def get_yahoo_data(self, start=None):\n",
    "        self._oil_futures_ticker_generator()\n",
    "        self._get_start_date()\n",
    "        yahoo_ticker_interface = yf.Ticker(self.ticker)\n",
    "        self.price_data = yahoo_ticker_interface.history(\n",
    "                start=self.start_date, end=datetime.datetime.now())\n",
    "        self.price_data.drop(\n",
    "            labels=['Dividends', 'Stock Splits'], axis=1, inplace=True)\n",
    "        self.price_data['Ticker'] = self.ticker\n",
    "    \n",
    "    def _get_start_date(self):\n",
    "        self._create_connection()\n",
    "        self.cur.execute(f\"SELECT MAX(DATE) FROM OIL_FUTURES_YAHOO WHERE TICKER = '{self.ticker+'i'}';\")\n",
    "        res = self.cur.fetchone()\n",
    "        self.conn.close()\n",
    "        print(res)\n",
    "        if res[0] is not None :\n",
    "            self.start_date = datetime.datetime.strptime(res[0], '%Y-%m-%d')\n",
    "        else:\n",
    "            self.start_date = datetime.datetime.now() - datetime.timedelta(45)\n",
    "        print(self.start_date)\n",
    "\n",
    "\n",
    "    def _create_connection(self, db_file=server_config['database']):\n",
    "        \"\"\" create a database connection to the SQLite database\n",
    "            specified by db_file\n",
    "        :param db_file: database file\n",
    "        :return: Connection object or None\n",
    "        \"\"\"\n",
    "        self.conn = None\n",
    "        try:\n",
    "            self.conn = sqlite3.connect(db_file)\n",
    "            self.cur = self.conn.cursor()\n",
    "        except Exception as e:\n",
    "            print(e)\n",
    "    \n",
    "    \n",
    "    def _create_execute_entry(self, row):\n",
    "        \"\"\"\n",
    "        Create a new futures price entry in the database's OIL_FUTURES_YAHOO table\n",
    "        :param conn:\n",
    "        :param row:\n",
    "        :return: void\n",
    "        \"\"\"\n",
    "        \n",
    "        sql = '''INSERT INTO OIL_FUTURES_YAHOO(TICKER, DATE, OPEN, HIGH, LOW, CLOSE, VOLUME)\n",
    "                VALUES(?,?,?,?,?,?,?)'''\n",
    "        try:\n",
    "            self._create_connection()\n",
    "            self.cur.execute(sql,row)\n",
    "            self.conn.commit()\n",
    "            self.conn.close()\n",
    "        except Exception as e:\n",
    "            print(e)\n",
    "    \n",
    "    def create_entries_from_dataframe(self):\n",
    "        #self._create_connection()\n",
    "        for index,row in self.price_data.iterrows():\n",
    "            print((row[5],index.date(),row[0],row[1],row[2],row[3],row[4]))\n",
    "            row = (row[5],index.date(),row[0],row[1],row[2],row[3],row[4])\n",
    "            self._create_execute_entry(row)\n",
    "        \n"
   ]
  },
  {
   "cell_type": "code",
   "execution_count": 9,
   "metadata": {},
   "outputs": [],
   "source": [
    "# sep = yahoo_futures_interface(year='22', month='9')\n",
    "# sep.get_yahoo_data()\n",
    "# sep.price_data\n",
    "# sep.create_entries_from_dataframe()"
   ]
  },
  {
   "cell_type": "code",
   "execution_count": null,
   "metadata": {},
   "outputs": [],
   "source": [
    "\n"
   ]
  },
  {
   "cell_type": "code",
   "execution_count": 10,
   "metadata": {},
   "outputs": [],
   "source": [
    "def get_next_12_contract_months(month_symbol_mapper):\n",
    "    year  = datetime.date.today().year\n",
    "    month = datetime.date.today().month +2\n",
    "    next_12_contracts = []\n",
    "    step=0\n",
    "    while step < 12:\n",
    "        if month < 12:\n",
    "            next_12_contracts.append({'year':str(year), 'month':str(month)})\n",
    "            month +=1\n",
    "        else:\n",
    "            year+=1\n",
    "            month = 1\n",
    "            next_12_contracts.append({'year':str(year), 'month':str(month)})\n",
    "        step+=1\n",
    "    return next_12_contracts\n",
    "\n",
    "\n",
    "next_12_contracts = get_next_12_contract_months(month_symbol_mapper)"
   ]
  },
  {
   "cell_type": "code",
   "execution_count": 11,
   "metadata": {},
   "outputs": [
    {
     "name": "stdout",
     "output_type": "stream",
     "text": [
      "year: 2022, month: 7\n",
      "CLU22.NYM\n",
      "(None,)\n",
      "2022-04-09 16:42:27.763051\n",
      "('CLU22.NYM', datetime.date(2022, 4, 11), 94.73999786376953, 94.73999786376953, 91.0999984741211, 92.45999908447266, 50437)\n",
      "database is locked\n",
      "('CLU22.NYM', datetime.date(2022, 4, 12), 93.41999816894531, 97.9000015258789, 92.98999786376953, 97.58000183105469, 47674)\n",
      "database is locked\n",
      "('CLU22.NYM', datetime.date(2022, 4, 13), 97.83000183105469, 100.66000366210938, 96.9800033569336, 100.5199966430664, 48784)\n"
     ]
    },
    {
     "ename": "KeyboardInterrupt",
     "evalue": "",
     "output_type": "error",
     "traceback": [
      "\u001b[0;31m---------------------------------------------------------------------------\u001b[0m",
      "\u001b[0;31mOperationalError\u001b[0m                          Traceback (most recent call last)",
      "\u001b[0;32m/var/folders/_m/w8ntzwsj26vfm_mzmv382g7w0000gn/T/ipykernel_45745/118012829.py\u001b[0m in \u001b[0;36m_create_execute_entry\u001b[0;34m(self, row)\u001b[0m\n\u001b[1;32m     79\u001b[0m         \u001b[0;32mtry\u001b[0m\u001b[0;34m:\u001b[0m\u001b[0;34m\u001b[0m\u001b[0;34m\u001b[0m\u001b[0m\n\u001b[0;32m---> 80\u001b[0;31m             \u001b[0mself\u001b[0m\u001b[0;34m.\u001b[0m\u001b[0mcur\u001b[0m\u001b[0;34m.\u001b[0m\u001b[0mexecute\u001b[0m\u001b[0;34m(\u001b[0m\u001b[0msql\u001b[0m\u001b[0;34m,\u001b[0m\u001b[0mrow\u001b[0m\u001b[0;34m)\u001b[0m\u001b[0;34m\u001b[0m\u001b[0;34m\u001b[0m\u001b[0m\n\u001b[0m\u001b[1;32m     81\u001b[0m             \u001b[0mself\u001b[0m\u001b[0;34m.\u001b[0m\u001b[0mconn\u001b[0m\u001b[0;34m.\u001b[0m\u001b[0mcommit\u001b[0m\u001b[0;34m(\u001b[0m\u001b[0;34m)\u001b[0m\u001b[0;34m\u001b[0m\u001b[0;34m\u001b[0m\u001b[0m\n",
      "\u001b[0;31mOperationalError\u001b[0m: database is locked",
      "\nDuring handling of the above exception, another exception occurred:\n",
      "\u001b[0;31mKeyboardInterrupt\u001b[0m                         Traceback (most recent call last)",
      "\u001b[0;32m/var/folders/_m/w8ntzwsj26vfm_mzmv382g7w0000gn/T/ipykernel_45745/2405577131.py\u001b[0m in \u001b[0;36m<cell line: 1>\u001b[0;34m()\u001b[0m\n\u001b[1;32m      3\u001b[0m     \u001b[0minterface\u001b[0m \u001b[0;34m=\u001b[0m \u001b[0myahoo_futures_interface\u001b[0m\u001b[0;34m(\u001b[0m\u001b[0myear\u001b[0m\u001b[0;34m=\u001b[0m\u001b[0;34m'22'\u001b[0m\u001b[0;34m,\u001b[0m \u001b[0mmonth\u001b[0m\u001b[0;34m=\u001b[0m\u001b[0;34m'9'\u001b[0m\u001b[0;34m)\u001b[0m\u001b[0;34m\u001b[0m\u001b[0;34m\u001b[0m\u001b[0m\n\u001b[1;32m      4\u001b[0m     \u001b[0minterface\u001b[0m\u001b[0;34m.\u001b[0m\u001b[0mget_yahoo_data\u001b[0m\u001b[0;34m(\u001b[0m\u001b[0;34m)\u001b[0m\u001b[0;34m\u001b[0m\u001b[0;34m\u001b[0m\u001b[0m\n\u001b[0;32m----> 5\u001b[0;31m     \u001b[0minterface\u001b[0m\u001b[0;34m.\u001b[0m\u001b[0mcreate_entries_from_dataframe\u001b[0m\u001b[0;34m(\u001b[0m\u001b[0;34m)\u001b[0m\u001b[0;34m\u001b[0m\u001b[0;34m\u001b[0m\u001b[0m\n\u001b[0m",
      "\u001b[0;32m/var/folders/_m/w8ntzwsj26vfm_mzmv382g7w0000gn/T/ipykernel_45745/118012829.py\u001b[0m in \u001b[0;36mcreate_entries_from_dataframe\u001b[0;34m(self)\u001b[0m\n\u001b[1;32m     89\u001b[0m             \u001b[0mprint\u001b[0m\u001b[0;34m(\u001b[0m\u001b[0;34m(\u001b[0m\u001b[0mrow\u001b[0m\u001b[0;34m[\u001b[0m\u001b[0;36m5\u001b[0m\u001b[0;34m]\u001b[0m\u001b[0;34m,\u001b[0m\u001b[0mindex\u001b[0m\u001b[0;34m.\u001b[0m\u001b[0mdate\u001b[0m\u001b[0;34m(\u001b[0m\u001b[0;34m)\u001b[0m\u001b[0;34m,\u001b[0m\u001b[0mrow\u001b[0m\u001b[0;34m[\u001b[0m\u001b[0;36m0\u001b[0m\u001b[0;34m]\u001b[0m\u001b[0;34m,\u001b[0m\u001b[0mrow\u001b[0m\u001b[0;34m[\u001b[0m\u001b[0;36m1\u001b[0m\u001b[0;34m]\u001b[0m\u001b[0;34m,\u001b[0m\u001b[0mrow\u001b[0m\u001b[0;34m[\u001b[0m\u001b[0;36m2\u001b[0m\u001b[0;34m]\u001b[0m\u001b[0;34m,\u001b[0m\u001b[0mrow\u001b[0m\u001b[0;34m[\u001b[0m\u001b[0;36m3\u001b[0m\u001b[0;34m]\u001b[0m\u001b[0;34m,\u001b[0m\u001b[0mrow\u001b[0m\u001b[0;34m[\u001b[0m\u001b[0;36m4\u001b[0m\u001b[0;34m]\u001b[0m\u001b[0;34m)\u001b[0m\u001b[0;34m)\u001b[0m\u001b[0;34m\u001b[0m\u001b[0;34m\u001b[0m\u001b[0m\n\u001b[1;32m     90\u001b[0m             \u001b[0mrow\u001b[0m \u001b[0;34m=\u001b[0m \u001b[0;34m(\u001b[0m\u001b[0mrow\u001b[0m\u001b[0;34m[\u001b[0m\u001b[0;36m5\u001b[0m\u001b[0;34m]\u001b[0m\u001b[0;34m,\u001b[0m\u001b[0mindex\u001b[0m\u001b[0;34m.\u001b[0m\u001b[0mdate\u001b[0m\u001b[0;34m(\u001b[0m\u001b[0;34m)\u001b[0m\u001b[0;34m,\u001b[0m\u001b[0mrow\u001b[0m\u001b[0;34m[\u001b[0m\u001b[0;36m0\u001b[0m\u001b[0;34m]\u001b[0m\u001b[0;34m,\u001b[0m\u001b[0mrow\u001b[0m\u001b[0;34m[\u001b[0m\u001b[0;36m1\u001b[0m\u001b[0;34m]\u001b[0m\u001b[0;34m,\u001b[0m\u001b[0mrow\u001b[0m\u001b[0;34m[\u001b[0m\u001b[0;36m2\u001b[0m\u001b[0;34m]\u001b[0m\u001b[0;34m,\u001b[0m\u001b[0mrow\u001b[0m\u001b[0;34m[\u001b[0m\u001b[0;36m3\u001b[0m\u001b[0;34m]\u001b[0m\u001b[0;34m,\u001b[0m\u001b[0mrow\u001b[0m\u001b[0;34m[\u001b[0m\u001b[0;36m4\u001b[0m\u001b[0;34m]\u001b[0m\u001b[0;34m)\u001b[0m\u001b[0;34m\u001b[0m\u001b[0;34m\u001b[0m\u001b[0m\n\u001b[0;32m---> 91\u001b[0;31m             \u001b[0mself\u001b[0m\u001b[0;34m.\u001b[0m\u001b[0m_create_execute_entry\u001b[0m\u001b[0;34m(\u001b[0m\u001b[0mrow\u001b[0m\u001b[0;34m)\u001b[0m\u001b[0;34m\u001b[0m\u001b[0;34m\u001b[0m\u001b[0m\n\u001b[0m\u001b[1;32m     92\u001b[0m \u001b[0;34m\u001b[0m\u001b[0m\n",
      "\u001b[0;32m/var/folders/_m/w8ntzwsj26vfm_mzmv382g7w0000gn/T/ipykernel_45745/118012829.py\u001b[0m in \u001b[0;36m_create_execute_entry\u001b[0;34m(self, row)\u001b[0m\n\u001b[1;32m     78\u001b[0m                 VALUES(?,?,?,?,?,?,?)'''\n\u001b[1;32m     79\u001b[0m         \u001b[0;32mtry\u001b[0m\u001b[0;34m:\u001b[0m\u001b[0;34m\u001b[0m\u001b[0;34m\u001b[0m\u001b[0m\n\u001b[0;32m---> 80\u001b[0;31m             \u001b[0mself\u001b[0m\u001b[0;34m.\u001b[0m\u001b[0mcur\u001b[0m\u001b[0;34m.\u001b[0m\u001b[0mexecute\u001b[0m\u001b[0;34m(\u001b[0m\u001b[0msql\u001b[0m\u001b[0;34m,\u001b[0m\u001b[0mrow\u001b[0m\u001b[0;34m)\u001b[0m\u001b[0;34m\u001b[0m\u001b[0;34m\u001b[0m\u001b[0m\n\u001b[0m\u001b[1;32m     81\u001b[0m             \u001b[0mself\u001b[0m\u001b[0;34m.\u001b[0m\u001b[0mconn\u001b[0m\u001b[0;34m.\u001b[0m\u001b[0mcommit\u001b[0m\u001b[0;34m(\u001b[0m\u001b[0;34m)\u001b[0m\u001b[0;34m\u001b[0m\u001b[0;34m\u001b[0m\u001b[0m\n\u001b[1;32m     82\u001b[0m             \u001b[0mself\u001b[0m\u001b[0;34m.\u001b[0m\u001b[0mconn\u001b[0m\u001b[0;34m.\u001b[0m\u001b[0mclose\u001b[0m\u001b[0;34m(\u001b[0m\u001b[0;34m)\u001b[0m\u001b[0;34m\u001b[0m\u001b[0;34m\u001b[0m\u001b[0m\n",
      "\u001b[0;31mKeyboardInterrupt\u001b[0m: "
     ]
    },
    {
     "ename": "",
     "evalue": "",
     "output_type": "error",
     "traceback": [
      "\u001b[1;31mThe Kernel crashed while executing code in the the current cell or a previous cell. Please review the code in the cell(s) to identify a possible cause of the failure. Click <a href='https://aka.ms/vscodeJupyterKernelCrash'>here</a> for more info. View Jupyter <a href='command:jupyter.viewOutput'>log</a> for further details."
     ]
    }
   ],
   "source": [
    "for contract in next_12_contracts:\n",
    "    print(f\"year: {contract['year']}, month: {contract['month']}\")\n",
    "    interface = yahoo_futures_interface(year='22', month='9')\n",
    "    interface.get_yahoo_data()\n",
    "    interface.create_entries_from_dataframe()"
   ]
  },
  {
   "cell_type": "code",
   "execution_count": null,
   "metadata": {},
   "outputs": [],
   "source": [
    "# sep.most_recent_date\n",
    "# yahoo_ticker_interface = yf.Ticker('CLU22.NYM')\n",
    "# yahoo_ticker_interface.history(start=sep.most_recent_date)"
   ]
  },
  {
   "cell_type": "code",
   "execution_count": null,
   "metadata": {},
   "outputs": [],
   "source": []
  }
 ],
 "metadata": {
  "interpreter": {
   "hash": "06c78d2242897578bb14f7edc94052eed10ff7315852b35430c41c4e2e17fd93"
  },
  "kernelspec": {
   "display_name": "Python 3.8.9 ('venv': venv)",
   "language": "python",
   "name": "python3"
  },
  "language_info": {
   "codemirror_mode": {
    "name": "ipython",
    "version": 3
   },
   "file_extension": ".py",
   "mimetype": "text/x-python",
   "name": "python",
   "nbconvert_exporter": "python",
   "pygments_lexer": "ipython3",
   "version": "3.8.9"
  },
  "orig_nbformat": 4
 },
 "nbformat": 4,
 "nbformat_minor": 2
}
