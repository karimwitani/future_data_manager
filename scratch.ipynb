{
 "cells": [
  {
   "cell_type": "markdown",
   "metadata": {},
   "source": [
    "## Imports"
   ]
  },
  {
   "cell_type": "code",
   "execution_count": 301,
   "metadata": {},
   "outputs": [],
   "source": [
    "import yfinance as yf \n",
    "import pandas as pd\n",
    "import sqlite3\n",
    "from configparser import ConfigParser\n",
    "import datetime\n",
    "from dateutil.relativedelta import relativedelta\n",
    "from pandas.tseries.offsets import BusinessDay\n",
    "import holidays\n",
    "import matplotlib"
   ]
  },
  {
   "cell_type": "markdown",
   "metadata": {},
   "source": [
    "## 1 - First version"
   ]
  },
  {
   "cell_type": "code",
   "execution_count": null,
   "metadata": {},
   "outputs": [],
   "source": [
    "# month_symbol_mapper = {\n",
    "#     'jul':'N',\n",
    "#     'aug':'Q',\n",
    "#     'sep':'U',\n",
    "#     'oct':'V',\n",
    "#     'nov':'X',\n",
    "#     'dec':'Z',\n",
    "#     'jan':'F',\n",
    "#     'feb':'G',\n",
    "#     'mar':'H',\n",
    "#     'apr':'J',\n",
    "#     'may':'K',\n",
    "#     'jun':'M',\n",
    "# }\n",
    "\n",
    "# def oil_futures_ticker_generator(year='22',month='jan'):\n",
    "#     ticker =  f\"CL{month_symbol_mapper[month]}{year}.NYM\"\n",
    "#     print(ticker)\n",
    "#     return ticker\n",
    "\n",
    "# def get_yahoo_data(ticker=\"CLN22.NYM\",start=None,end=None):\n",
    "#     yahoo_ticker_interface = yf.Ticker(ticker)\n",
    "#     if start is None or end is None:        \n",
    "#         price_data = yahoo_ticker_interface.history(period='max')\n",
    "#     else:\n",
    "#         price_data = yahoo_ticker_interface.history(start=start,end=end)\n",
    "#     price_data.drop(labels=['Dividends','Stock Splits'], axis=1, inplace=True)\n",
    "#     price_data['Ticker']=ticker\n",
    "#     return price_data\n",
    "\n",
    "# def get_front_month():\n",
    "#     month_string = datetime.datetime(datetime.date.today().year,datetime.date.today().month+2,1).strftime('%b').lower()\n",
    "#     month_number = datetime.datetime(datetime.date.today().year,datetime.date.today().month+2,1).strftime('%-m')\n",
    "#     return {'month_string': month_string, 'month_number':month_number}\n",
    "\n",
    "# def get_back_month():\n",
    "#     month_string = datetime.datetime(datetime.date.today().year,datetime.date.today().month+3,1).strftime('%b').lower()\n",
    "#     month_number = datetime.datetime(datetime.date.today().year,datetime.date.today().month+3,1).strftime('%-m')\n",
    "#     return {'month_string': month_string, 'month_number':month_number}\n",
    "\n",
    "# def get_current_cycle():\n",
    "#     cycle_start = datetime.datetime(datetime.date.today().year,datetime.date.today().month,1)\n",
    "#     today = datetime.date.today()\n",
    "#     return {'cycle_start':cycle_start, 'today':today}\n"
   ]
  },
  {
   "cell_type": "code",
   "execution_count": null,
   "metadata": {},
   "outputs": [],
   "source": [
    "# front_month = get_front_month()\n",
    "# back_month = get_back_month()\n",
    "# front_month_ticker = oil_futures_ticker_generator(month= front_month['month_string'])\n",
    "# back_month_ticker = oil_futures_ticker_generator(month= back_month['month_string'])\n",
    "# current_cycle = get_current_cycle()\n",
    "# front_month_data = get_yahoo_data(ticker=front_month_ticker,start=current_cycle['cycle_start'],end=current_cycle['today'])\n",
    "# back_month_data = get_yahoo_data(ticker=back_month_ticker,start=current_cycle['cycle_start'],end=current_cycle['today'])\n",
    "# front_month_data.head()\n",
    "# back_month_data.head()"
   ]
  },
  {
   "cell_type": "code",
   "execution_count": null,
   "metadata": {},
   "outputs": [],
   "source": [
    "# merged = pd.merge(front_month_data, back_month_data, left_index=True, right_index=True, how='inner', suffixes=('_front','_back'))\n",
    "# merged['Time_Spread']= merged['Close_back']-merged['Close_front']\n",
    "# merged"
   ]
  },
  {
   "cell_type": "code",
   "execution_count": null,
   "metadata": {},
   "outputs": [],
   "source": [
    "# oil = yf.Ticker(\"CLN22.NYM\")\n",
    "# #oil.history(start=datetime.datetime(datetime.date.today().year,datetime.date.today().month-2,1))\n",
    "\n",
    "# oil = get_yahoo_data(ticker=\"CLN22.NYM\", start=datetime.datetime(datetime.date.today().year,datetime.date.today().month-2,1), end=datetime.datetime.now())\n",
    "# oil\n",
    "# # ticker = oil_futures_ticker_generator(year='22',month='jul')\n",
    "# # hist['ticker']=ticker\n",
    "# # hist.head()\n",
    "# # hist.index"
   ]
  },
  {
   "cell_type": "code",
   "execution_count": null,
   "metadata": {},
   "outputs": [],
   "source": [
    "# datetime.datetime(datetime.date.today().year,datetime.date.today().month,1)\n",
    "# #datetime.datetime(datetime.date.today().year,datetime.date.today().month+3,1).strftime('%h').lower()\n",
    "# #datetime.date.today().strftime('%b').lower()\n",
    "# # datetime.datetime.now()\n",
    "# #datetime.datetime(datetime.date.today().year,datetime.date.today().month+2,1).strftime('%-m')"
   ]
  },
  {
   "cell_type": "markdown",
   "metadata": {},
   "source": [
    "## 2- Database connectivity"
   ]
  },
  {
   "cell_type": "code",
   "execution_count": null,
   "metadata": {},
   "outputs": [],
   "source": [
    "def create_connection(db_file):\n",
    "    \"\"\" create a database connection to the SQLite database\n",
    "        specified by db_file\n",
    "    :param db_file: database file\n",
    "    :return: Connection object or None\n",
    "    \"\"\"\n",
    "    conn = None\n",
    "    try:\n",
    "        conn = sqlite3.connect(db_file)\n",
    "    except Exception as e:\n",
    "        print(e)\n",
    "\n",
    "    return conn"
   ]
  },
  {
   "cell_type": "code",
   "execution_count": null,
   "metadata": {},
   "outputs": [],
   "source": [
    "conn = create_connection('futures.db')\n",
    "cur = conn.cursor()\n",
    "cur.execute(\"SELECT TICKER, MAX(DATE) FROM OIL_FUTURES_YAHOO WHERE TICKER = 'CLU22.NYM' GROUP BY TICKER\")\n",
    "res = cur.fetchone()\n",
    "print(type(res))\n",
    "print(res)\n",
    "print(type(res[0][1]))\n",
    "datetime_obj = datetime.datetime.strptime(res[1], '%Y-%m-%d')\n",
    "print(datetime_obj)\n",
    "print(type(datetime_obj))\n",
    "if datetime_obj <= datetime.datetime.now():\n",
    "    print('True')\n",
    "else:\n",
    "    print('False')\n"
   ]
  },
  {
   "cell_type": "code",
   "execution_count": null,
   "metadata": {},
   "outputs": [],
   "source": [
    "def create_entry(conn, row):\n",
    "    \"\"\"\n",
    "    Create a new futures price entry in the database's OIL_FUTURES_YAHOO table\n",
    "    :param conn:\n",
    "    :param row:\n",
    "    :return: void\n",
    "    \"\"\"\n",
    "    sql = '''INSERT INTO OIL_FUTURES_YAHOO(TICKER, DATE, OPEN, HIGH, LOW, CLOSE, VOLUME)\n",
    "            VALUES(?,?,?,?,?,?,?)'''\n",
    "    try:\n",
    "        cur = conn.cursor()\n",
    "        cur.execute(sql,row)\n",
    "        conn.commit()\n",
    "    except Exception as e:\n",
    "        print(e)"
   ]
  },
  {
   "cell_type": "code",
   "execution_count": null,
   "metadata": {},
   "outputs": [],
   "source": [
    "for index,row in back_month_data.iterrows():\n",
    "    print((row[5],index.date(),row[0],row[1],row[2],row[3],row[4]))\n",
    "    row = (row[5],index.date(),row[0],row[1],row[2],row[3],row[4])\n",
    "    create_entry(conn, row)\n"
   ]
  },
  {
   "cell_type": "markdown",
   "metadata": {},
   "source": [
    "## 3- Creating a class"
   ]
  },
  {
   "cell_type": "code",
   "execution_count": 71,
   "metadata": {},
   "outputs": [],
   "source": [
    "\n",
    "config_object = ConfigParser()\n",
    "config_object.read(\"config.ini\")\n",
    "server_config = config_object[\"SERVERINFO\"]\n",
    "\n",
    "\n",
    "\n",
    "month_symbol_mapper = {\n",
    "    '1':{'string':'jan','code':'F'},\n",
    "    '2':{'string':'feb','code':'G'},\n",
    "    '3':{'string':'mar','code':'H'},\n",
    "    '4':{'string':'apr','code':'J'},\n",
    "    '5':{'string':'may','code':'K'},\n",
    "    '6':{'string':'jun','code':'M'},\n",
    "    '7':{'string':'jul','code':'N'},\n",
    "    '8':{'string':'aug','code':'Q'},\n",
    "    '9':{'string':'sep','code':'U'},\n",
    "    '10':{'string':'oct','code':'V'},\n",
    "    '11':{'string':'nov','code':'X'},\n",
    "    '12':{'string':'dev','code':'Z'},\n",
    "}\n",
    "\n",
    "class yahoo_futures_interface:\n",
    "    def __init__(self, year='22', month='1'):\n",
    "        self.year = year\n",
    "        self.month = month\n",
    "\n",
    "    def _oil_futures_ticker_generator(self):\n",
    "        self.ticker = f\"CL{month_symbol_mapper[self.month]['code']}{self.year}.NYM\"\n",
    "        print(self.ticker)\n",
    "\n",
    "    def get_yahoo_data(self, start=None):\n",
    "        self._oil_futures_ticker_generator()\n",
    "        self._get_start_date()\n",
    "        yahoo_ticker_interface = yf.Ticker(self.ticker)\n",
    "        self.price_data = yahoo_ticker_interface.history(\n",
    "                start=self.start_date, end=datetime.datetime.now())\n",
    "        self.price_data.drop(\n",
    "            labels=['Dividends', 'Stock Splits'], axis=1, inplace=True)\n",
    "        self.price_data['Ticker'] = self.ticker\n",
    "        self.price_data['Ticker'] = self.ticker\n",
    "    \n",
    "    def _get_start_date(self):\n",
    "        self._create_connection()\n",
    "        self.cur.execute(f\"SELECT MAX(DATE) FROM OIL_FUTURES_YAHOO WHERE TICKER = '{self.ticker+'i'}';\")\n",
    "        res = self.cur.fetchone()\n",
    "        self.conn.close()\n",
    "        print(res)\n",
    "        if res[0] is not None :\n",
    "            self.start_date = datetime.datetime.strptime(res[0], '%Y-%m-%d')\n",
    "        else:\n",
    "            self.start_date = datetime.datetime.now() - datetime.timedelta(45)\n",
    "        print(self.start_date)\n",
    "\n",
    "\n",
    "    def _create_connection(self, db_file=server_config['database']):\n",
    "        \"\"\" create a database connection to the SQLite database\n",
    "            specified by db_file\n",
    "        :param db_file: database file\n",
    "        :return: Connection object or None\n",
    "        \"\"\"\n",
    "        self.conn = None\n",
    "        try:\n",
    "            self.conn = sqlite3.connect(db_file)\n",
    "            self.cur = self.conn.cursor()\n",
    "        except Exception as e:\n",
    "            print(e)\n",
    "    \n",
    "    \n",
    "    def _create_execute_entry(self, row):\n",
    "        \"\"\"\n",
    "        Create a new futures price entry in the database's OIL_FUTURES_YAHOO table\n",
    "        :param conn:\n",
    "        :param row:\n",
    "        :return: void\n",
    "        \"\"\"\n",
    "        \n",
    "        sql = '''INSERT INTO OIL_FUTURES_YAHOO(TICKER, DATE, OPEN, HIGH, LOW, CLOSE, VOLUME)\n",
    "                VALUES(?,?,?,?,?,?,?)'''\n",
    "        try:\n",
    "            self._create_connection()\n",
    "            self.cur.execute(sql,row)\n",
    "            self.conn.commit()\n",
    "            self.conn.close()\n",
    "        except Exception as e:\n",
    "            print(e)\n",
    "    \n",
    "    def create_entries_from_dataframe(self):\n",
    "        #self._create_connection()\n",
    "        for index,row in self.price_data.iterrows():\n",
    "            print((row[5],index.date(),row[0],row[1],row[2],row[3],row[4]))\n",
    "            row = (row[5],index.date(),row[0],row[1],row[2],row[3],row[4])\n",
    "            self._create_execute_entry(row)\n",
    "        \n"
   ]
  },
  {
   "cell_type": "code",
   "execution_count": 9,
   "metadata": {},
   "outputs": [],
   "source": [
    "# sep = yahoo_futures_interface(year='22', month='9')\n",
    "# sep.get_yahoo_data()\n",
    "# sep.price_data\n",
    "# sep.create_entries_from_dataframe()"
   ]
  },
  {
   "cell_type": "code",
   "execution_count": null,
   "metadata": {},
   "outputs": [],
   "source": [
    "# for contract in next_12_contracts:\n",
    "#     print(f\"year: {contract['year']}, month: {contract['month']}\")\n",
    "#     interface = yahoo_futures_interface(year='22', month='9')\n",
    "#     interface.get_yahoo_data()\n",
    "#     interface.create_entries_from_dataframe()\n"
   ]
  },
  {
   "cell_type": "code",
   "execution_count": null,
   "metadata": {},
   "outputs": [],
   "source": [
    "from dateutil.relativedelta import relativedelta\n",
    "def get_next_12_contract_months(month_symbol_mapper):\n",
    "    year  = datetime.date.today().year\n",
    "    month = datetime.date.today().month +2\n",
    "    next_12_contracts = []\n",
    "    step=0\n",
    "    while step < 12:\n",
    "        #print(f\"step: {step}, month: {month}, year: {year}\")\n",
    "        if month < 12:\n",
    "            next_12_contracts.append({'year':str(year), 'month':str(month)})\n",
    "            month +=1\n",
    "        else:\n",
    "            next_12_contracts.append({'year':str(year), 'month':str(month)})\n",
    "            year+=1\n",
    "            month = 1\n",
    "            \n",
    "        step+=1\n",
    "    return next_12_contracts\n",
    "\n",
    "\n",
    "next_12_contracts = get_next_12_contract_months(month_symbol_mapper)\n",
    "## get  3 business days from date\n",
    "from pandas.tseries.offsets import *\n",
    "contract_exprations = []\n",
    "for contract in next_12_contracts:\n",
    "    #pass\n",
    "    #print(contract)\n",
    "    year = int(contract['year'])\n",
    "    month = int(contract['month'])\n",
    "\n",
    "    previous_month_25th_day = datetime.date(year,month,25) - relativedelta(months=1)\n",
    "    \n",
    "    if previous_month_25th_day.weekday() < 5:\n",
    "        contract_expiration = previous_month_25th_day-3*BusinessDay()\n",
    "    else:\n",
    "        contract_expiration = previous_month_25th_day-4*BusinessDay()\n",
    "    print(f\"contract:{year}-{month}, prev 25th : {previous_month_25th_day}, expiry : {contract_expiration.date().strftime('%m-%d')}\")\n",
    "    contract_exprations.append([f\"{month}\", contract_expiration.date().strftime('%m-%d')])\n",
    "for i in contract_exprations:\n",
    "    print(i)\n",
    "\n",
    "    # if datetime.datetime(int(contract['year']),max(1,int(contract['month'])-1),25).weekday() <5:\n",
    "    #     \n",
    "    # else:\n",
    "    #     print(datetime.datetime(int(contract['year']),max(1,int(contract['month'])-1),25)-4*BusinessDay())"
   ]
  },
  {
   "cell_type": "code",
   "execution_count": 1,
   "metadata": {},
   "outputs": [],
   "source": [
    "import yfinance as yf\n",
    "import sqlite3\n",
    "#from yf_interface.base import yahoo_futures_interface\n",
    "from configparser import ConfigParser\n",
    "import datetime\n",
    "from pandas.tseries.offsets import BusinessDay\n",
    "from dateutil.relativedelta import relativedelta\n",
    "\n",
    "#SETUP CONFIG OBJECT\n",
    "config_object = ConfigParser()\n",
    "config_object.read(\"config.ini\")\n",
    "server_config = config_object[\"SERVERINFO\"]\n",
    "\n",
    "\n",
    "\n",
    "month_symbol_mapper = {\n",
    "    '1':{'string':'jan','code':'F'},\n",
    "    '2':{'string':'feb','code':'G'},\n",
    "    '3':{'string':'mar','code':'H'},\n",
    "    '4':{'string':'apr','code':'J'},\n",
    "    '5':{'string':'may','code':'K'},\n",
    "    '6':{'string':'jun','code':'M'},\n",
    "    '7':{'string':'jul','code':'N'},\n",
    "    '8':{'string':'aug','code':'Q'},\n",
    "    '9':{'string':'sep','code':'U'},\n",
    "    '10':{'string':'oct','code':'V'},\n",
    "    '11':{'string':'nov','code':'X'},\n",
    "    '12':{'string':'dev','code':'Z'},\n",
    "}\n",
    "\n",
    "class yahoo_futures_interface:\n",
    "    def __init__(self, year='22', month='1'):\n",
    "        self.year = year\n",
    "        self.month = month\n",
    "\n",
    "    def _oil_futures_ticker_generator(self):\n",
    "        self.ticker = f\"CL{month_symbol_mapper[self.month]['code']}{self.year}.NYM\"\n",
    "        print(self.ticker)\n",
    "\n",
    "    def get_yahoo_data(self, start=None):\n",
    "        self._oil_futures_ticker_generator()\n",
    "        self._get_start_date()\n",
    "        self._get_settlement_date()\n",
    "        yahoo_ticker_interface = yf.Ticker(self.ticker)\n",
    "        self.price_data = yahoo_ticker_interface.history(\n",
    "                start=self.start_date, end=datetime.datetime.now())\n",
    "        try:\n",
    "            self.price_data.drop(\n",
    "            labels=['Dividends', 'Stock Splits'], axis=1, inplace=True)\n",
    "        except Exception as e:\n",
    "            print(e)\n",
    "        self.price_data['Ticker'] = self.ticker\n",
    "        self.price_data['Settlement Date'] = self.contract_expiration \n",
    "    \n",
    "    def _get_start_date(self):\n",
    "        self._create_connection()\n",
    "        self.cur.execute(f\"SELECT MAX(DATE) FROM OIL_FUTURES_YAHOO WHERE TICKER = '{self.ticker+'i'}';\")\n",
    "        res = self.cur.fetchone()\n",
    "        self.conn.close()\n",
    "        print(res)\n",
    "        if res[0] is not None :\n",
    "            self.start_date = datetime.datetime.strptime(res[0], '%Y-%m-%d')\n",
    "        else:\n",
    "            self.start_date = datetime.datetime.now() - datetime.timedelta(45)\n",
    "        print(self.start_date)\n",
    "\n",
    "\n",
    "    def _create_connection(self, db_file=server_config['database']):\n",
    "        \"\"\" create a database connection to the SQLite database\n",
    "            specified by db_file\n",
    "        :param db_file: database file\n",
    "        :return: Connection object or None\n",
    "        \"\"\"\n",
    "        self.conn = None\n",
    "        try:\n",
    "            self.conn = sqlite3.connect(db_file)\n",
    "            self.cur = self.conn.cursor()\n",
    "        except Exception as e:\n",
    "            print(e)\n",
    "    \n",
    "    def _get_settlement_date(self):\n",
    "        year = int(self.year)+2000\n",
    "        month = int(self.month)\n",
    "\n",
    "        previous_month_25th_day = datetime.date(year,month,25) - relativedelta(months=1)\n",
    "        print(f'previous_month_25th_day; {previous_month_25th_day}')\n",
    "        if previous_month_25th_day.weekday() < 5:\n",
    "            contract_expiration = previous_month_25th_day-3*BusinessDay()\n",
    "        else:\n",
    "            contract_expiration = previous_month_25th_day-4*BusinessDay()\n",
    "        self.contract_expiration = contract_expiration\n",
    "    \n",
    "    \n",
    "    def _create_execute_entry(self, row):\n",
    "        \"\"\"\n",
    "        Create a new futures price entry in the database's OIL_FUTURES_YAHOO table\n",
    "        :param conn:\n",
    "        :param row:\n",
    "        :return: void\n",
    "        \"\"\"\n",
    "        \n",
    "        sql = '''INSERT INTO OIL_FUTURES_YAHOO(DATE,TICKER,SETTLEMENT_DATE,OPEN, HIGH, LOW, CLOSE, VOLUME)\n",
    "                VALUES(?,?,?,?,?,?,?,?)'''\n",
    "        try:\n",
    "            self._create_connection()\n",
    "            self.cur.execute(sql,row)\n",
    "            self.conn.commit()\n",
    "            self.conn.close()\n",
    "        except Exception as e:\n",
    "            print(e)\n",
    "    \n",
    "    def create_entries_from_dataframe(self):\n",
    "        #self._create_connection()\n",
    "        for index,row in self.price_data.iterrows():\n",
    "            print(index.date(),row[5],row[6],row[0],row[1],row[2],row[3],row[4])\n",
    "            row = (index.date(),row[5],row[6],row[0],row[1],row[2],row[3],row[4])\n",
    "            self._create_execute_entry(row)\n",
    "        \n",
    "def get_next_12_contract_months(month_symbol_mapper):\n",
    "    year  = datetime.date.today().year-2000\n",
    "    month = datetime.date.today().month +2\n",
    "    next_12_contracts = []\n",
    "    step=0\n",
    "    while step < 12:\n",
    "        next_12_contracts.append({'year':str(year), 'month':str(month)})\n",
    "        if month <12:\n",
    "            month +=1\n",
    "        else:\n",
    "            year+=1\n",
    "            month = 1\n",
    "        step+=1\n",
    "    return next_12_contracts"
   ]
  },
  {
   "cell_type": "code",
   "execution_count": 3,
   "metadata": {},
   "outputs": [
    {
     "name": "stdout",
     "output_type": "stream",
     "text": [
      "year: 22, month: 7\n",
      "CLN22.NYM\n",
      "(None,)\n",
      "2022-04-13 14:29:10.156721\n",
      "previous_month_25th_day; 2022-06-25\n"
     ]
    }
   ],
   "source": [
    "next_12_contracts = get_next_12_contract_months(month_symbol_mapper)\n",
    "for contract in [next_12_contracts[0]]:\n",
    "    print(f\"year: {contract['year']}, month: {contract['month']}\")\n",
    "    interface = yahoo_futures_interface(year=contract['year'], month=contract['month'])\n",
    "    interface.get_yahoo_data()\n",
    "    #interface.create_entries_from_dataframe()"
   ]
  },
  {
   "cell_type": "code",
   "execution_count": 16,
   "metadata": {},
   "outputs": [
    {
     "data": {
      "text/plain": [
       "5"
      ]
     },
     "execution_count": 16,
     "metadata": {},
     "output_type": "execute_result"
    }
   ],
   "source": [
    "datetime.datetime.today().weekday()"
   ]
  },
  {
   "cell_type": "markdown",
   "metadata": {},
   "source": [
    "## 4- Next Settlement Date\n",
    "\n"
   ]
  },
  {
   "cell_type": "markdown",
   "metadata": {},
   "source": [
    "### 4.1 Given any datetime.date object, what is the nex_settlment date?"
   ]
  },
  {
   "cell_type": "code",
   "execution_count": 77,
   "metadata": {},
   "outputs": [],
   "source": [
    "def get_25th_day(date):\n",
    "    assert  isinstance(date, datetime.date), 'date passed is not a datetime object'\n",
    "    return datetime.date(date.year, date.month, 25)\n",
    "\n",
    "\n",
    "def get_business_date_offset(date):\n",
    "    \"\"\"Get the settlement date for WTI oil futures using the specs from ICE. \n",
    "    The contracts settle 3 business days prior to the 25th of each month. \n",
    "    If the 25th is not a business date itself the offset is 4 business days.\n",
    "    Input: datetime object with the day being the 25th of a given month\n",
    "    Output: datetime with appropriate offset.\n",
    "    \"\"\"\n",
    "    offset = 3 if date.weekday() < 5 else 4\n",
    "    return offset\n",
    "\n",
    "\n",
    "def next_settelment_date(date=datetime.date.today()):\n",
    "    day_25th = get_25th_day(date)\n",
    "    business_day_offset = get_business_date_offset(day_25th)\n",
    "    next_settelment_date = day_25th -  business_day_offset*BusinessDay()\n",
    "    next_settelment_date = next_settelment_date.to_pydatetime().date()\n",
    "\n",
    "    if date < next_settelment_date:\n",
    "        next_settelment_date = day_25th - business_day_offset*BusinessDay()\n",
    "        return next_settelment_date.date()\n",
    "    else:\n",
    "        day_25th = day_25th + relativedelta(months=1)\n",
    "        business_day_offset = get_business_date_offset(day_25th)\n",
    "        next_settelment_date = day_25th - business_day_offset*BusinessDay()\n",
    "        next_settelment_date = next_settelment_date.to_pydatetime().date()\n",
    "        return next_settelment_date\n",
    "\n",
    "\n",
    "\n",
    "\n",
    "\n",
    "\n",
    "\n",
    "    "
   ]
  },
  {
   "cell_type": "markdown",
   "metadata": {},
   "source": [
    "#### scratch"
   ]
  },
  {
   "cell_type": "code",
   "execution_count": 82,
   "metadata": {},
   "outputs": [],
   "source": [
    "## SCRATCH\n",
    "\n",
    "# PLAY AROUND WITH DATES\n",
    "#datetime.date(2022,5,28).day\n",
    "today = datetime.date.today()\n",
    "\n",
    "# #TEST FUNCITON get_25th_day\n",
    "# print(get_25th_day(datetime.date(2022,6,1)))\n",
    "\n",
    "# # TEST FUNCTION\n",
    "# print(f\"next_settelment_date(date=datetime.date.today()) : {next_settelment_date(date=datetime.date.today())}\")\n",
    "\n",
    "# print(f\"next_settelment_date(datetime.date(2022,6,22)) : {next_settelment_date(datetime.date(2022,6,22))}\")\n",
    "\n",
    "# print(f\"next_settelment_date(datetime.date(2022,6,17)) : {next_settelment_date(datetime.date(2022,6,17))}\")"
   ]
  },
  {
   "cell_type": "markdown",
   "metadata": {},
   "source": [
    "## 5- Contract code given expiry spread and date"
   ]
  },
  {
   "cell_type": "markdown",
   "metadata": {},
   "source": [
    "### 5.1- given a date and given number of months spead which contract is the right one for expiry?"
   ]
  },
  {
   "cell_type": "code",
   "execution_count": 314,
   "metadata": {},
   "outputs": [],
   "source": [
    "def get_contract_code_time_spread(date=datetime.date.today(), time_spread=0):\n",
    "    print(f\"0 date : {date}, of type {type(date)}\")\n",
    "    \n",
    "    day_25th = get_25th_day(date) + relativedelta(months=time_spread)\n",
    "    print(f\"1 day_25th : {day_25th}, of type {type(day_25th)}\")\n",
    "\n",
    "    business_day_offset = get_business_date_offset(day_25th)\n",
    "    print(f\"2 business_day_offset : {business_day_offset}, of type {type(business_day_offset)}\")\n",
    "\n",
    "    settlement_date_current_month = day_25th -  business_day_offset*BusinessDay()\n",
    "    print(f\"3 settlement_date_current_month : {settlement_date_current_month}, of type {type(settlement_date_current_month)}\")\n",
    "\n",
    "    settlement_date_current_month = settlement_date_current_month.to_pydatetime().date()\n",
    "    print(f\"4 settlement_date_current_month : {settlement_date_current_month}, of type {type(settlement_date_current_month)}\")\n",
    "\n",
    "    if date < settlement_date_current_month:\n",
    "        next_settelment_date = settlement_date_current_month\n",
    "        print(f\"5 next_settelment_date : {next_settelment_date}, of type {type(next_settelment_date)}\")\n",
    "        \n",
    "    else:\n",
    "        day_25th = day_25th + relativedelta(months=1)\n",
    "        print(f\"7 day_25th : {day_25th}, of type {type(day_25th)}\")\n",
    "\n",
    "        business_day_offset = get_business_date_offset(day_25th)\n",
    "        print(f\"8 business_day_offset : {business_day_offset}, of type {type(business_day_offset)}\")\n",
    "\n",
    "        next_settelment_date = day_25th - business_day_offset*BusinessDay()\n",
    "        print(f\"9 next_settelment_date : {next_settelment_date}, of type {type(next_settelment_date)}\")\n",
    "\n",
    "        next_settelment_date = next_settelment_date.to_pydatetime().date()\n",
    "        print(f\"10 next_settelment_date : {next_settelment_date}, of type {type(next_settelment_date)}\")\n",
    "    return next_settelment_date\n",
    "\n",
    "    "
   ]
  },
  {
   "cell_type": "markdown",
   "metadata": {},
   "source": [
    "#### scratch"
   ]
  },
  {
   "cell_type": "code",
   "execution_count": 315,
   "metadata": {},
   "outputs": [
    {
     "name": "stdout",
     "output_type": "stream",
     "text": [
      "0 date : 2022-05-30, of type <class 'datetime.date'>\n",
      "1 day_25th : 2022-05-25, of type <class 'datetime.date'>\n",
      "2 business_day_offset : 3, of type <class 'int'>\n",
      "3 settlement_date_current_month : 2022-05-20 00:00:00, of type <class 'pandas._libs.tslibs.timestamps.Timestamp'>\n",
      "4 settlement_date_current_month : 2022-05-20, of type <class 'datetime.date'>\n",
      "7 day_25th : 2022-06-25, of type <class 'datetime.date'>\n",
      "8 business_day_offset : 4, of type <class 'int'>\n",
      "9 next_settelment_date : 2022-06-21 00:00:00, of type <class 'pandas._libs.tslibs.timestamps.Timestamp'>\n",
      "10 next_settelment_date : 2022-06-21, of type <class 'datetime.date'>\n",
      "11 front_month : 2022-06-21, of type <class 'datetime.date'>\n",
      "0 date : 2022-06-21, of type <class 'datetime.date'>\n",
      "1 day_25th : 2022-08-25, of type <class 'datetime.date'>\n",
      "2 business_day_offset : 3, of type <class 'int'>\n",
      "3 settlement_date_current_month : 2022-08-22 00:00:00, of type <class 'pandas._libs.tslibs.timestamps.Timestamp'>\n",
      "4 settlement_date_current_month : 2022-08-22, of type <class 'datetime.date'>\n",
      "5 next_settelment_date : 2022-08-22, of type <class 'datetime.date'>\n"
     ]
    }
   ],
   "source": [
    "## TESTING get_contract_code_time_spread\n",
    "#try with default values, today with no spread\n",
    "front_month = get_contract_code_time_spread()\n",
    "print(f\"11 front_month : {front_month}, of type {type(front_month)}\")\n",
    "\n",
    "# #try with 1 month spread\n",
    "# get_contract_code_time_spread(time_spread = 1)\n",
    "\n",
    "# #try with date object in the future\n",
    "# get_contract_code_time_spread(date = datetime.date(2022, 6, 30))\n",
    "\n",
    "# #try with date object in the past\n",
    "# get_contract_code_time_spread(date = datetime.date(2022, 5, 3))\n",
    "\n",
    "# # try with date object in the past with a spread of 2 month\n",
    "# get_contract_code_time_spread(date = datetime.date(2022, 5, 3), time_spread=2)\n",
    "\n",
    "# #try with 1 month spread\n",
    "spread_month = get_contract_code_time_spread(date = front_month, time_spread = 2)"
   ]
  },
  {
   "cell_type": "code",
   "execution_count": 97,
   "metadata": {},
   "outputs": [
    {
     "name": "stdout",
     "output_type": "stream",
     "text": [
      "2022-06-30\n",
      "2022-03-28\n"
     ]
    }
   ],
   "source": [
    "## TESTING RELATTIVE DELTA FUNCTION\n",
    "\n",
    "#try with a may 31st with a 1 month relative delta knowing that June 31st doesn't exist\n",
    "date  = datetime.date(2022, 5, 31)\n",
    "date = date + relativedelta(months=1)\n",
    "print(date)\n",
    "\n",
    "#try with a feb 28th with a 1 month relative delta knowing that march 31st does exist\n",
    "date  = datetime.date(2022, 2, 28)\n",
    "date = date + relativedelta(months=1)\n",
    "print(date)"
   ]
  },
  {
   "cell_type": "code",
   "execution_count": 313,
   "metadata": {},
   "outputs": [
    {
     "name": "stdout",
     "output_type": "stream",
     "text": [
      "1 next_settelment_date : 2022-06-21, of type <class 'datetime.date'>\n",
      "1 next_settelment_date : 2022-07-20, of type <class 'datetime.date'>\n",
      "1 next_settelment_date : 2022-08-22, of type <class 'datetime.date'>\n",
      "1 next_settelment_date : 2022-09-20, of type <class 'datetime.date'>\n",
      "1 next_settelment_date : 2022-10-20, of type <class 'datetime.date'>\n",
      "1 next_settelment_date : 2022-11-22, of type <class 'datetime.date'>\n",
      "1 next_settelment_date : 2022-12-20, of type <class 'datetime.date'>\n",
      "1 next_settelment_date : 2023-01-20, of type <class 'datetime.date'>\n",
      "1 next_settelment_date : 2023-02-21, of type <class 'datetime.date'>\n",
      "1 next_settelment_date : 2023-03-21, of type <class 'datetime.date'>\n",
      "1 next_settelment_date : 2023-04-20, of type <class 'datetime.date'>\n",
      "1 next_settelment_date : 2023-05-22, of type <class 'datetime.date'>\n",
      "1 next_settelment_date : 2023-06-20, of type <class 'datetime.date'>\n",
      "1 next_settelment_date : 2023-07-20, of type <class 'datetime.date'>\n",
      "1 next_settelment_date : 2023-08-22, of type <class 'datetime.date'>\n"
     ]
    }
   ],
   "source": [
    "## testing dates of expiry with an iteration over number of months ahead\n",
    "\n",
    "def get_contract_code_time_spread(date=datetime.date.today(), time_spread=0):\n",
    "\n",
    "    day_25th = get_25th_day(date) + relativedelta(months=time_spread)\n",
    "    business_day_offset = get_business_date_offset(day_25th)\n",
    "    settlement_date_current_month = day_25th -  business_day_offset*BusinessDay()\n",
    "    settlement_date_current_month = settlement_date_current_month.to_pydatetime().date()\n",
    "    if date < settlement_date_current_month:\n",
    "        next_settelment_date = settlement_date_current_month\n",
    "    \n",
    "    else:\n",
    "        day_25th = day_25th + relativedelta(months=1)\n",
    "        business_day_offset = get_business_date_offset(day_25th)\n",
    "        next_settelment_date = day_25th - business_day_offset*BusinessDay()\n",
    "        next_settelment_date = next_settelment_date.to_pydatetime().date()\n",
    "    print(f\"1 next_settelment_date : {next_settelment_date}, of type {type(next_settelment_date)}\")\n",
    "    #print(f\"2 time_spread : {time_spread}, of type {type(time_spread)}\")\n",
    "    return next_settelment_date\n",
    "    \n",
    "next_settelment_date = get_contract_code_time_spread()\n",
    "for step in range(1,15):\n",
    "    get_contract_code_time_spread(date = next_settelment_date, time_spread = step)"
   ]
  },
  {
   "cell_type": "markdown",
   "metadata": {},
   "source": [
    "### 5.2 augment the function get_business_date_offset to use the holidays library to fix issue with Nov 25th not being detected as Thanksgiving "
   ]
  },
  {
   "cell_type": "code",
   "execution_count": 181,
   "metadata": {},
   "outputs": [],
   "source": [
    "def get_business_date_offset(date):\n",
    "    us_holidays = holidays.US()\n",
    "    \"\"\"Get the settlement date for WTI oil futures using the specs from ICE. \n",
    "    The contracts settle 3 business days prior to the 25th of each month. \n",
    "    If the 25th is not a business date itself the offset is 4 business days.\n",
    "    Input: datetime object with the day being the 25th of a given month\n",
    "    Output: datetime with appropriate offset.\n",
    "    \"\"\"\n",
    "    offset = 3 if date.weekday() < 5 and date not in us_holidays else 4\n",
    "    return offset"
   ]
  },
  {
   "cell_type": "markdown",
   "metadata": {},
   "source": [
    "#### scratch"
   ]
  },
  {
   "cell_type": "code",
   "execution_count": 182,
   "metadata": {},
   "outputs": [
    {
     "name": "stdout",
     "output_type": "stream",
     "text": [
      "4\n"
     ]
    }
   ],
   "source": [
    "# # testing if holidays package recognizes new years\n",
    "# us_holidays = holidays.US()\n",
    "# datetime.date(2015, 1, 1) in us_holidays\n",
    "# datetime.date(2022, 11, 22) in us_holidays\n",
    "\n",
    "# testing if the business offset will recognise thanksgiving 2022\n",
    "print(get_business_date_offset(datetime.date(2022, 11, 24)))\n"
   ]
  },
  {
   "cell_type": "code",
   "execution_count": 174,
   "metadata": {},
   "outputs": [
    {
     "name": "stdout",
     "output_type": "stream",
     "text": [
      "(datetime.date(2022, 1, 1), \"New Year's Day\")\n",
      "(datetime.date(2022, 1, 17), 'Martin Luther King Jr. Day')\n",
      "(datetime.date(2022, 2, 21), \"Washington's Birthday\")\n",
      "(datetime.date(2022, 5, 30), 'Memorial Day')\n",
      "(datetime.date(2022, 6, 19), 'Juneteenth National Independence Day')\n",
      "(datetime.date(2022, 6, 20), 'Juneteenth National Independence Day (Observed)')\n",
      "(datetime.date(2022, 7, 4), 'Independence Day')\n",
      "(datetime.date(2022, 9, 5), 'Labor Day')\n",
      "(datetime.date(2022, 10, 10), 'Columbus Day')\n",
      "(datetime.date(2022, 11, 11), 'Veterans Day')\n",
      "(datetime.date(2022, 11, 24), 'Thanksgiving')\n",
      "(datetime.date(2022, 12, 25), 'Christmas Day')\n",
      "(datetime.date(2022, 12, 26), 'Christmas Day (Observed)')\n"
     ]
    }
   ],
   "source": [
    "#inspect the holiday calendar\n",
    "for holiday in holidays.US(years=[2022]).items():\n",
    "    print(holiday)"
   ]
  },
  {
   "cell_type": "code",
   "execution_count": 317,
   "metadata": {},
   "outputs": [
    {
     "name": "stdout",
     "output_type": "stream",
     "text": [
      "1 next_settelment_date : 2022-06-21, of type <class 'datetime.date'>\n",
      "1 next_settelment_date : 2022-07-20, of type <class 'datetime.date'>\n",
      "1 next_settelment_date : 2022-08-22, of type <class 'datetime.date'>\n",
      "1 next_settelment_date : 2022-09-20, of type <class 'datetime.date'>\n",
      "1 next_settelment_date : 2022-10-20, of type <class 'datetime.date'>\n",
      "1 next_settelment_date : 2022-11-22, of type <class 'datetime.date'>\n",
      "1 next_settelment_date : 2022-12-20, of type <class 'datetime.date'>\n",
      "1 next_settelment_date : 2023-01-20, of type <class 'datetime.date'>\n",
      "1 next_settelment_date : 2023-02-21, of type <class 'datetime.date'>\n",
      "1 next_settelment_date : 2023-03-21, of type <class 'datetime.date'>\n",
      "1 next_settelment_date : 2023-04-20, of type <class 'datetime.date'>\n",
      "1 next_settelment_date : 2023-05-22, of type <class 'datetime.date'>\n",
      "1 next_settelment_date : 2023-06-20, of type <class 'datetime.date'>\n",
      "1 next_settelment_date : 2023-07-20, of type <class 'datetime.date'>\n",
      "1 next_settelment_date : 2023-08-22, of type <class 'datetime.date'>\n"
     ]
    }
   ],
   "source": [
    "## testing dates of expiry with an iteration over number of months ahead, having included the US holiday in function get_business_date_offset()\n",
    "\n",
    "def get_contract_code_time_spread(date=datetime.date.today(), time_spread=0):\n",
    "\n",
    "    day_25th = get_25th_day(date) + relativedelta(months=time_spread)\n",
    "    business_day_offset = get_business_date_offset(day_25th)\n",
    "    settlement_date_current_month = day_25th -  business_day_offset*BusinessDay()\n",
    "    settlement_date_current_month = settlement_date_current_month.to_pydatetime().date()\n",
    "    if date < settlement_date_current_month:\n",
    "        next_settelment_date = settlement_date_current_month\n",
    "    \n",
    "    else:\n",
    "        day_25th = day_25th + relativedelta(months=1)\n",
    "        business_day_offset = get_business_date_offset(day_25th)\n",
    "        next_settelment_date = day_25th - business_day_offset*BusinessDay()\n",
    "        next_settelment_date = next_settelment_date.to_pydatetime().date()\n",
    "    print(f\"1 next_settelment_date : {next_settelment_date}, of type {type(next_settelment_date)}\")\n",
    "    #print(f\"2 time_spread : {time_spread}, of type {type(time_spread)}\")\n",
    "    return next_settelment_date\n",
    "    \n",
    "next_settelment_date = get_contract_code_time_spread()\n",
    "for step in range(1,15):\n",
    "    get_contract_code_time_spread(date = next_settelment_date, time_spread = step)"
   ]
  },
  {
   "cell_type": "code",
   "execution_count": 319,
   "metadata": {},
   "outputs": [
    {
     "name": "stdout",
     "output_type": "stream",
     "text": [
      "1 next_settelment_date : 2022-06-21, of type <class 'datetime.date'>\n",
      "1 next_settelment_date : 2022-07-20, of type <class 'datetime.date'>\n",
      "1 next_settelment_date : 2022-08-22, of type <class 'datetime.date'>\n",
      "1 next_settelment_date : 2022-09-20, of type <class 'datetime.date'>\n",
      "1 next_settelment_date : 2022-10-20, of type <class 'datetime.date'>\n",
      "1 next_settelment_date : 2022-11-22, of type <class 'datetime.date'>\n",
      "1 next_settelment_date : 2022-12-20, of type <class 'datetime.date'>\n",
      "1 next_settelment_date : 2023-01-20, of type <class 'datetime.date'>\n",
      "1 next_settelment_date : 2023-02-21, of type <class 'datetime.date'>\n",
      "1 next_settelment_date : 2023-03-21, of type <class 'datetime.date'>\n",
      "1 next_settelment_date : 2023-04-20, of type <class 'datetime.date'>\n",
      "1 next_settelment_date : 2023-05-22, of type <class 'datetime.date'>\n",
      "1 next_settelment_date : 2023-06-20, of type <class 'datetime.date'>\n",
      "1 next_settelment_date : 2023-07-20, of type <class 'datetime.date'>\n",
      "1 next_settelment_date : 2023-08-22, of type <class 'datetime.date'>\n"
     ]
    }
   ],
   "source": [
    "#test with starting increment is 0\n",
    "for step in range(0,15):\n",
    "    if step ==0:\n",
    "        next_settelment_date = get_contract_code_time_spread()\n",
    "    else:\n",
    "        next_settelment_date = get_contract_code_time_spread(date = next_settelment_date, time_spread = 1)"
   ]
  },
  {
   "cell_type": "markdown",
   "metadata": {},
   "source": [
    "### 5.3 get settlement date as well as contract code "
   ]
  },
  {
   "cell_type": "code",
   "execution_count": 320,
   "metadata": {},
   "outputs": [
    {
     "name": "stdout",
     "output_type": "stream",
     "text": [
      "2 next_settelment_date : 2022-06-21, ticker: CLN22.NYM\n",
      "2 next_settelment_date : 2022-09-20, ticker: CLV22.NYM\n",
      "2 next_settelment_date : 2022-12-20, ticker: CLF23.NYM\n",
      "2 next_settelment_date : 2023-03-21, ticker: CLJ23.NYM\n",
      "2 next_settelment_date : 2023-06-20, ticker: CLN23.NYM\n"
     ]
    }
   ],
   "source": [
    "month_symbol_mapper = {\n",
    "    '1':{'string':'jan','code':'F'},\n",
    "    '2':{'string':'feb','code':'G'},\n",
    "    '3':{'string':'mar','code':'H'},\n",
    "    '4':{'string':'apr','code':'J'},\n",
    "    '5':{'string':'may','code':'K'},\n",
    "    '6':{'string':'jun','code':'M'},\n",
    "    '7':{'string':'jul','code':'N'},\n",
    "    '8':{'string':'aug','code':'Q'},\n",
    "    '9':{'string':'sep','code':'U'},\n",
    "    '10':{'string':'oct','code':'V'},\n",
    "    '11':{'string':'nov','code':'X'},\n",
    "    '12':{'string':'dev','code':'Z'},\n",
    "}\n",
    "\n",
    "\n",
    "def oil_futures_ticker_generator(date):\n",
    "        ticker = f\"CL{month_symbol_mapper[str(date.month)]['code']}{date.year-2000}.NYM\"\n",
    "        return ticker\n",
    "\n",
    "\n",
    "def get_contract_code_time_spread(date=datetime.date.today(), time_spread=0):\n",
    "\n",
    "    day_25th = get_25th_day(date) + relativedelta(months=time_spread)\n",
    "    business_day_offset = get_business_date_offset(day_25th)\n",
    "    settlement_date_current_month = day_25th -  business_day_offset*BusinessDay()\n",
    "    settlement_date_current_month = settlement_date_current_month.to_pydatetime().date()\n",
    "    if date < settlement_date_current_month:\n",
    "        next_settelment_date = settlement_date_current_month\n",
    "    \n",
    "    else:\n",
    "        day_25th = day_25th + relativedelta(months=1)\n",
    "        business_day_offset = get_business_date_offset(day_25th)\n",
    "        next_settelment_date = day_25th - business_day_offset*BusinessDay()\n",
    "        next_settelment_date = next_settelment_date.to_pydatetime().date()\n",
    "    #print(f\"1 next_settelment_date : {next_settelment_date}, of type {type(next_settelment_date)}\")\n",
    "    ticker = oil_futures_ticker_generator(next_settelment_date+relativedelta(months=1))\n",
    "\n",
    "    print(f\"2 next_settelment_date : {next_settelment_date}, ticker: {ticker}\")\n",
    "    return ticker, next_settelment_date\n",
    "\n",
    "\n",
    "\n",
    "\n",
    "\n",
    "\n",
    "for step in [0,3,6,9,12]:\n",
    "    if step ==0:\n",
    "        ticker, front_settelment_date = get_contract_code_time_spread()\n",
    "    else:\n",
    "        ticker, next_settelment_date = get_contract_code_time_spread(date = front_settelment_date, time_spread = step)"
   ]
  },
  {
   "cell_type": "code",
   "execution_count": null,
   "metadata": {},
   "outputs": [],
   "source": []
  },
  {
   "cell_type": "markdown",
   "metadata": {},
   "source": [
    "## 6- compute timespreads"
   ]
  },
  {
   "cell_type": "code",
   "execution_count": 195,
   "metadata": {},
   "outputs": [
    {
     "name": "stdout",
     "output_type": "stream",
     "text": [
      "2022-04-12\n"
     ]
    },
    {
     "data": {
      "text/plain": [
       "datetime.date(2022, 4, 12)"
      ]
     },
     "execution_count": 195,
     "metadata": {},
     "output_type": "execute_result"
    }
   ],
   "source": [
    "#connect to database\n",
    "conn = sqlite3.connect('futures.db')\n",
    "cur = conn.cursor()\n",
    "\n",
    "sql = '''SELECT MIN(DATE) FROM OIL_FUTURES_YAHOO'''\n",
    "cur.execute(sql)\n",
    "res = cur.fetchone()\n",
    "\n",
    "\n"
   ]
  },
  {
   "cell_type": "markdown",
   "metadata": {},
   "source": [
    "### SCRATCH"
   ]
  },
  {
   "cell_type": "code",
   "execution_count": 212,
   "metadata": {},
   "outputs": [
    {
     "name": "stdout",
     "output_type": "stream",
     "text": [
      "2022-04-12\n"
     ]
    }
   ],
   "source": [
    "#verify if you can build a datetime object from the result of the query\n",
    "sql = '''SELECT MIN(DATE) FROM OIL_FUTURES_YAHOO'''\n",
    "cur.execute(sql)\n",
    "min_date = cur.fetchone()\n",
    "print(min_date[0])\n",
    "\n",
    "\n",
    "min_date = datetime.datetime.strptime(min_date[0], '%Y-%m-%d').date()"
   ]
  },
  {
   "cell_type": "code",
   "execution_count": 216,
   "metadata": {},
   "outputs": [
    {
     "name": "stdout",
     "output_type": "stream",
     "text": [
      "start_date: 2022-04-12 of type <class 'datetime.date'>\n",
      "start_date: 2022-04-13 of type <class 'datetime.date'>\n",
      "start_date: 2022-04-14 of type <class 'datetime.date'>\n",
      "start_date: 2022-04-15 of type <class 'datetime.date'>\n",
      "start_date: 2022-04-16 of type <class 'datetime.date'>\n"
     ]
    }
   ],
   "source": [
    "#iterate over date using relativedelta and pull data from database\n",
    "start_date = datetime.datetime.strptime(str(min_date), '%Y-%m-%d').date()\n",
    "today = datetime.date.today()\n",
    "step = 0\n",
    "while start_date < today and step < 5:\n",
    "    print(f\"start_date: {start_date} of type {type(start_date)}\")\n",
    "    start_date = start_date + relativedelta(days=1)\n",
    "    step += 1"
   ]
  },
  {
   "cell_type": "code",
   "execution_count": 222,
   "metadata": {},
   "outputs": [
    {
     "name": "stdout",
     "output_type": "stream",
     "text": [
      "start_date: 2022-04-12 of type <class 'str'>\n",
      "('CLN22.NYM', '2022-04-12', 94.45999908447266, 100.02999877929688, 94.05999755859375, 99.4000015258789, 95008, '2022-06-21')\n"
     ]
    }
   ],
   "source": [
    "#verify that you can query the database using the date objects that you generated above\n",
    "print(f\"start_date: {str(min_date)} of type {type(str(min_date))}\")\n",
    "start_date = datetime.datetime.strptime(str(min_date), '%Y-%m-%d').date()\n",
    "sql = f\"\"\"SELECT * FROM OIL_FUTURES_YAHOO WHERE DATE = '{start_date}'\"\"\"\n",
    "cur.execute(sql)\n",
    "res = cur.fetchone()\n",
    "print(res)"
   ]
  },
  {
   "cell_type": "code",
   "execution_count": 236,
   "metadata": {},
   "outputs": [
    {
     "name": "stdout",
     "output_type": "stream",
     "text": [
      "2 next_settelment_date : 2022-06-21, ticker: CLN2022.NYM\n",
      "2 next_settelment_date : 2022-09-20, ticker: CLV2022.NYM\n",
      "2 next_settelment_date : 2023-03-21, ticker: CLJ2023.NYM\n",
      "2 next_settelment_date : 2023-12-19, ticker: CLF2024.NYM\n",
      "2 next_settelment_date : 2024-12-19, ticker: CLF2025.NYM\n"
     ]
    }
   ],
   "source": [
    "# # fetch data from the database using the timespreads and tickers\n",
    "# ticker, next_settelment_date = get_contract_code_time_spread()\n",
    "for step in [0,3,6,9,12]:\n",
    "    if step==0:\n",
    "        ticker, next_settelment_date = get_contract_code_time_spread()\n",
    "    else:\n",
    "        ticker, next_settelment_date = get_contract_code_time_spread(date = next_settelment_date, time_spread = step)\n"
   ]
  },
  {
   "cell_type": "code",
   "execution_count": 247,
   "metadata": {},
   "outputs": [
    {
     "name": "stdout",
     "output_type": "stream",
     "text": [
      "2 next_settelment_date : 2022-06-21, ticker: CLN22.NYM\n",
      "2 next_settelment_date : 2022-09-20, ticker: CLV22.NYM\n",
      "2 next_settelment_date : 2022-12-20, ticker: CLF23.NYM\n",
      "2 next_settelment_date : 2023-03-21, ticker: CLJ23.NYM\n",
      "2 next_settelment_date : 2023-06-20, ticker: CLN23.NYM\n"
     ]
    }
   ],
   "source": [
    "ticker_0, next_settelment_date_0 = get_contract_code_time_spread()\n",
    "ticker_3, next_settelment_date_3 = get_contract_code_time_spread(date = next_settelment_date_0, time_spread = 3)\n",
    "ticker_6, next_settelment_date_6 = get_contract_code_time_spread(date = next_settelment_date_3, time_spread = 3)\n",
    "ticker_9, next_settelment_date_9 = get_contract_code_time_spread(date = next_settelment_date_6, time_spread = 3)\n",
    "ticker_12, next_settelment_date_12 = get_contract_code_time_spread(date = next_settelment_date_9, time_spread = 3)"
   ]
  },
  {
   "cell_type": "code",
   "execution_count": 298,
   "metadata": {},
   "outputs": [
    {
     "name": "stdout",
     "output_type": "stream",
     "text": [
      "2022-05-27 <class 'str'>\n"
     ]
    }
   ],
   "source": [
    "# GET MAX DATE FROM THE SPREADS TABLE\n",
    "conn = sqlite3.connect('futures.db')\n",
    "cur = conn.cursor()\n",
    "sql= \"\"\"\n",
    "SELECT MAX(DATE)\n",
    "FROM OIL_FUTURES_CL_TIME_SPREADS\n",
    "\"\"\"\n",
    "cur.execute(sql)\n",
    "max_spread_date = cur.fetchone()\n",
    "max_spread_date = max_spread_date[0]\n",
    "print(max_spread_date, type(max_spread_date[0]))\n",
    "conn.close()"
   ]
  },
  {
   "cell_type": "code",
   "execution_count": 293,
   "metadata": {},
   "outputs": [
    {
     "data": {
      "text/html": [
       "<div>\n",
       "<style scoped>\n",
       "    .dataframe tbody tr th:only-of-type {\n",
       "        vertical-align: middle;\n",
       "    }\n",
       "\n",
       "    .dataframe tbody tr th {\n",
       "        vertical-align: top;\n",
       "    }\n",
       "\n",
       "    .dataframe thead th {\n",
       "        text-align: right;\n",
       "    }\n",
       "</style>\n",
       "<table border=\"1\" class=\"dataframe\">\n",
       "  <thead>\n",
       "    <tr style=\"text-align: right;\">\n",
       "      <th></th>\n",
       "      <th>DATE</th>\n",
       "      <th>SPR_FRONT_CONTRACT</th>\n",
       "      <th>SPR_FRONT_CLOSING</th>\n",
       "      <th>SPR_3MO_CONTRACT</th>\n",
       "      <th>SPR_3MO_CLOSING</th>\n",
       "      <th>SPR_6MO_CONTRACT</th>\n",
       "      <th>SPR_6MO_CLOSING</th>\n",
       "      <th>SPR_9MO_CONTRACT</th>\n",
       "      <th>SPR_9MO_CLOSING</th>\n",
       "      <th>SPR_12MO_CONTRACT</th>\n",
       "      <th>SPR_12MO_CLOSING</th>\n",
       "    </tr>\n",
       "  </thead>\n",
       "  <tbody>\n",
       "    <tr>\n",
       "      <th>0</th>\n",
       "      <td>2022-04-14</td>\n",
       "      <td>CLN22.NYM</td>\n",
       "      <td>105.440002</td>\n",
       "      <td>CLV22.NYM</td>\n",
       "      <td>100.970001</td>\n",
       "      <td>CLF23.NYM</td>\n",
       "      <td>97.029999</td>\n",
       "      <td>CLJ23.NYM</td>\n",
       "      <td>93.599998</td>\n",
       "      <td>CLN23.NYM</td>\n",
       "      <td>90.750000</td>\n",
       "    </tr>\n",
       "    <tr>\n",
       "      <th>1</th>\n",
       "      <td>2022-04-18</td>\n",
       "      <td>CLN22.NYM</td>\n",
       "      <td>106.410004</td>\n",
       "      <td>CLV22.NYM</td>\n",
       "      <td>101.379997</td>\n",
       "      <td>CLF23.NYM</td>\n",
       "      <td>97.059998</td>\n",
       "      <td>CLJ23.NYM</td>\n",
       "      <td>93.400002</td>\n",
       "      <td>CLN23.NYM</td>\n",
       "      <td>90.470001</td>\n",
       "    </tr>\n",
       "    <tr>\n",
       "      <th>2</th>\n",
       "      <td>2022-04-19</td>\n",
       "      <td>CLN22.NYM</td>\n",
       "      <td>101.160004</td>\n",
       "      <td>CLV22.NYM</td>\n",
       "      <td>96.800003</td>\n",
       "      <td>CLF23.NYM</td>\n",
       "      <td>92.570000</td>\n",
       "      <td>CLJ23.NYM</td>\n",
       "      <td>89.080002</td>\n",
       "      <td>CLN23.NYM</td>\n",
       "      <td>86.339996</td>\n",
       "    </tr>\n",
       "    <tr>\n",
       "      <th>3</th>\n",
       "      <td>2022-04-20</td>\n",
       "      <td>CLN22.NYM</td>\n",
       "      <td>101.360001</td>\n",
       "      <td>CLV22.NYM</td>\n",
       "      <td>97.279999</td>\n",
       "      <td>CLF23.NYM</td>\n",
       "      <td>93.190002</td>\n",
       "      <td>CLJ23.NYM</td>\n",
       "      <td>89.690002</td>\n",
       "      <td>CLN23.NYM</td>\n",
       "      <td>86.860001</td>\n",
       "    </tr>\n",
       "    <tr>\n",
       "      <th>4</th>\n",
       "      <td>2022-04-21</td>\n",
       "      <td>CLN22.NYM</td>\n",
       "      <td>102.959999</td>\n",
       "      <td>CLV22.NYM</td>\n",
       "      <td>98.709999</td>\n",
       "      <td>CLF23.NYM</td>\n",
       "      <td>94.570000</td>\n",
       "      <td>CLJ23.NYM</td>\n",
       "      <td>91.110001</td>\n",
       "      <td>CLN23.NYM</td>\n",
       "      <td>88.320000</td>\n",
       "    </tr>\n",
       "  </tbody>\n",
       "</table>\n",
       "</div>"
      ],
      "text/plain": [
       "         DATE SPR_FRONT_CONTRACT  SPR_FRONT_CLOSING SPR_3MO_CONTRACT  \\\n",
       "0  2022-04-14          CLN22.NYM         105.440002        CLV22.NYM   \n",
       "1  2022-04-18          CLN22.NYM         106.410004        CLV22.NYM   \n",
       "2  2022-04-19          CLN22.NYM         101.160004        CLV22.NYM   \n",
       "3  2022-04-20          CLN22.NYM         101.360001        CLV22.NYM   \n",
       "4  2022-04-21          CLN22.NYM         102.959999        CLV22.NYM   \n",
       "\n",
       "   SPR_3MO_CLOSING SPR_6MO_CONTRACT  SPR_6MO_CLOSING SPR_9MO_CONTRACT  \\\n",
       "0       100.970001        CLF23.NYM        97.029999        CLJ23.NYM   \n",
       "1       101.379997        CLF23.NYM        97.059998        CLJ23.NYM   \n",
       "2        96.800003        CLF23.NYM        92.570000        CLJ23.NYM   \n",
       "3        97.279999        CLF23.NYM        93.190002        CLJ23.NYM   \n",
       "4        98.709999        CLF23.NYM        94.570000        CLJ23.NYM   \n",
       "\n",
       "   SPR_9MO_CLOSING SPR_12MO_CONTRACT  SPR_12MO_CLOSING  \n",
       "0        93.599998         CLN23.NYM         90.750000  \n",
       "1        93.400002         CLN23.NYM         90.470001  \n",
       "2        89.080002         CLN23.NYM         86.339996  \n",
       "3        89.690002         CLN23.NYM         86.860001  \n",
       "4        91.110001         CLN23.NYM         88.320000  "
      ]
     },
     "execution_count": 293,
     "metadata": {},
     "output_type": "execute_result"
    }
   ],
   "source": [
    "# CREATE AN SQL THAT JOINS A BUNCH OF TEMP TABLES, EACH FOR A DISTINCT EXPIRY DATE, AND JOIN THE ON THE DATE KEY\n",
    "\n",
    "conn = sqlite3.connect('futures.db')\n",
    "cur = conn.cursor()\n",
    "\n",
    "sql = f\"\"\"\n",
    "WITH TEMP_0 AS (\n",
    "    SELECT DATE, TICKER, CLOSE\n",
    "    FROM OIL_FUTURES_YAHOO\n",
    "    WHERE TICKER = '{ticker_0}'\n",
    "\n",
    "),\n",
    "TEMP_3 AS (\n",
    "    SELECT DATE, TICKER, CLOSE\n",
    "    FROM OIL_FUTURES_YAHOO\n",
    "    WHERE TICKER = '{ticker_3}'\n",
    "\n",
    "),\n",
    "TEMP_6 AS (\n",
    "    SELECT DATE, TICKER, CLOSE\n",
    "    FROM OIL_FUTURES_YAHOO\n",
    "    WHERE TICKER = '{ticker_6}'\n",
    "\n",
    "),\n",
    "TEMP_9 AS (\n",
    "    SELECT DATE, TICKER, CLOSE\n",
    "    FROM OIL_FUTURES_YAHOO\n",
    "    WHERE TICKER = '{ticker_9}'\n",
    "\n",
    "),\n",
    "TEMP_12 AS (\n",
    "    SELECT DATE, TICKER, CLOSE\n",
    "    FROM OIL_FUTURES_YAHOO\n",
    "    WHERE TICKER = '{ticker_12}'\n",
    "\n",
    ")\n",
    "SELECT \n",
    "    TEMP_0.DATE, TEMP_0.TICKER SPR_FRONT_CONTRACT, TEMP_0.CLOSE SPR_FRONT_CLOSING,\n",
    "    TEMP_3.TICKER SPR_3MO_CONTRACT, TEMP_3.CLOSE SPR_3MO_CLOSING,\n",
    "    TEMP_6.TICKER SPR_6MO_CONTRACT, TEMP_6.CLOSE SPR_6MO_CLOSING,\n",
    "    TEMP_9.TICKER SPR_9MO_CONTRACT, TEMP_9.CLOSE SPR_9MO_CLOSING,\n",
    "    TEMP_12.TICKER SPR_12MO_CONTRACT, TEMP_12.CLOSE SPR_12MO_CLOSING\n",
    "FROM TEMP_0\n",
    "INNER JOIN TEMP_3\n",
    "    ON TEMP_0.DATE = TEMP_3.DATE\n",
    "INNER JOIN TEMP_6\n",
    "    ON TEMP_0.DATE = TEMP_6.DATE\n",
    "INNER JOIN TEMP_9\n",
    "    ON TEMP_0.DATE = TEMP_9.DATE\n",
    "INNER JOIN TEMP_12\n",
    "    ON TEMP_0.DATE = TEMP_12.DATE\n",
    "WHERE TEMP_0.DATE > '{max_spread_date}'\n",
    "\"\"\"\n",
    "df = pd.read_sql_query(sql, conn)\n",
    "# cur.execute(sql)\n",
    "# result = cur.fetchall()\n",
    "conn.close()\n",
    "df.head()\n",
    "\n"
   ]
  },
  {
   "cell_type": "code",
   "execution_count": 294,
   "metadata": {},
   "outputs": [],
   "source": [
    "## insert values into dataframe\n",
    "conn = sqlite3.connect('futures.db')\n",
    "cur = conn.cursor()\n",
    "try:\n",
    "    df.to_sql('OIL_FUTURES_CL_TIME_SPREADS', index=False, con= conn, if_exists='append')\n",
    "except Exception as e :\n",
    "    print(e)\n",
    "conn.close()"
   ]
  },
  {
   "cell_type": "code",
   "execution_count": 296,
   "metadata": {},
   "outputs": [
    {
     "data": {
      "text/html": [
       "<div>\n",
       "<style scoped>\n",
       "    .dataframe tbody tr th:only-of-type {\n",
       "        vertical-align: middle;\n",
       "    }\n",
       "\n",
       "    .dataframe tbody tr th {\n",
       "        vertical-align: top;\n",
       "    }\n",
       "\n",
       "    .dataframe thead th {\n",
       "        text-align: right;\n",
       "    }\n",
       "</style>\n",
       "<table border=\"1\" class=\"dataframe\">\n",
       "  <thead>\n",
       "    <tr style=\"text-align: right;\">\n",
       "      <th></th>\n",
       "      <th>SPR_FRONT_CLOSING</th>\n",
       "      <th>SPR_3MO_CLOSING</th>\n",
       "      <th>SPR_6MO_CLOSING</th>\n",
       "      <th>SPR_9MO_CLOSING</th>\n",
       "      <th>SPR_12MO_CLOSING</th>\n",
       "    </tr>\n",
       "  </thead>\n",
       "  <tbody>\n",
       "    <tr>\n",
       "      <th>0</th>\n",
       "      <td>105.440002</td>\n",
       "      <td>100.970001</td>\n",
       "      <td>97.029999</td>\n",
       "      <td>93.599998</td>\n",
       "      <td>90.750000</td>\n",
       "    </tr>\n",
       "    <tr>\n",
       "      <th>1</th>\n",
       "      <td>106.410004</td>\n",
       "      <td>101.379997</td>\n",
       "      <td>97.059998</td>\n",
       "      <td>93.400002</td>\n",
       "      <td>90.470001</td>\n",
       "    </tr>\n",
       "    <tr>\n",
       "      <th>2</th>\n",
       "      <td>101.160004</td>\n",
       "      <td>96.800003</td>\n",
       "      <td>92.570000</td>\n",
       "      <td>89.080002</td>\n",
       "      <td>86.339996</td>\n",
       "    </tr>\n",
       "    <tr>\n",
       "      <th>3</th>\n",
       "      <td>101.360001</td>\n",
       "      <td>97.279999</td>\n",
       "      <td>93.190002</td>\n",
       "      <td>89.690002</td>\n",
       "      <td>86.860001</td>\n",
       "    </tr>\n",
       "    <tr>\n",
       "      <th>4</th>\n",
       "      <td>102.959999</td>\n",
       "      <td>98.709999</td>\n",
       "      <td>94.570000</td>\n",
       "      <td>91.110001</td>\n",
       "      <td>88.320000</td>\n",
       "    </tr>\n",
       "  </tbody>\n",
       "</table>\n",
       "</div>"
      ],
      "text/plain": [
       "   SPR_FRONT_CLOSING  SPR_3MO_CLOSING  SPR_6MO_CLOSING  SPR_9MO_CLOSING  \\\n",
       "0         105.440002       100.970001        97.029999        93.599998   \n",
       "1         106.410004       101.379997        97.059998        93.400002   \n",
       "2         101.160004        96.800003        92.570000        89.080002   \n",
       "3         101.360001        97.279999        93.190002        89.690002   \n",
       "4         102.959999        98.709999        94.570000        91.110001   \n",
       "\n",
       "   SPR_12MO_CLOSING  \n",
       "0         90.750000  \n",
       "1         90.470001  \n",
       "2         86.339996  \n",
       "3         86.860001  \n",
       "4         88.320000  "
      ]
     },
     "execution_count": 296,
     "metadata": {},
     "output_type": "execute_result"
    }
   ],
   "source": [
    "## get closing data for spread calculation\n",
    "conn = sqlite3.connect('futures.db')\n",
    "cur = conn.cursor()\n",
    "\n",
    "sql = \"\"\"\n",
    "SELECT \n",
    "    SPR_FRONT_CLOSING,\n",
    "    SPR_3MO_CLOSING,\n",
    "    SPR_6MO_CLOSING,\n",
    "    SPR_9MO_CLOSING,\n",
    "    SPR_12MO_CLOSING\n",
    "FROM OIL_FUTURES_CL_TIME_SPREADS\n",
    "\"\"\"\n",
    "\n",
    "try:\n",
    "    df = pd.read_sql(sql, con= conn)\n",
    "except Exception as e :\n",
    "    print(e)\n",
    "conn.close()\n",
    "df.head()"
   ]
  },
  {
   "cell_type": "code",
   "execution_count": 299,
   "metadata": {},
   "outputs": [
    {
     "data": {
      "text/html": [
       "<div>\n",
       "<style scoped>\n",
       "    .dataframe tbody tr th:only-of-type {\n",
       "        vertical-align: middle;\n",
       "    }\n",
       "\n",
       "    .dataframe tbody tr th {\n",
       "        vertical-align: top;\n",
       "    }\n",
       "\n",
       "    .dataframe thead th {\n",
       "        text-align: right;\n",
       "    }\n",
       "</style>\n",
       "<table border=\"1\" class=\"dataframe\">\n",
       "  <thead>\n",
       "    <tr style=\"text-align: right;\">\n",
       "      <th></th>\n",
       "      <th>SPR_FRONT_CLOSING</th>\n",
       "      <th>SPR_3MO_CLOSING</th>\n",
       "      <th>SPR_6MO_CLOSING</th>\n",
       "      <th>SPR_9MO_CLOSING</th>\n",
       "      <th>SPR_12MO_CLOSING</th>\n",
       "      <th>3MO_SPREAD</th>\n",
       "      <th>6MO_SPREAD</th>\n",
       "      <th>9MO_SPREAD</th>\n",
       "      <th>12MO_SPREAD</th>\n",
       "    </tr>\n",
       "  </thead>\n",
       "  <tbody>\n",
       "    <tr>\n",
       "      <th>0</th>\n",
       "      <td>105.440002</td>\n",
       "      <td>100.970001</td>\n",
       "      <td>97.029999</td>\n",
       "      <td>93.599998</td>\n",
       "      <td>90.750000</td>\n",
       "      <td>4.470001</td>\n",
       "      <td>8.410004</td>\n",
       "      <td>11.840004</td>\n",
       "      <td>14.690002</td>\n",
       "    </tr>\n",
       "    <tr>\n",
       "      <th>1</th>\n",
       "      <td>106.410004</td>\n",
       "      <td>101.379997</td>\n",
       "      <td>97.059998</td>\n",
       "      <td>93.400002</td>\n",
       "      <td>90.470001</td>\n",
       "      <td>5.030006</td>\n",
       "      <td>9.350006</td>\n",
       "      <td>13.010002</td>\n",
       "      <td>15.940002</td>\n",
       "    </tr>\n",
       "    <tr>\n",
       "      <th>2</th>\n",
       "      <td>101.160004</td>\n",
       "      <td>96.800003</td>\n",
       "      <td>92.570000</td>\n",
       "      <td>89.080002</td>\n",
       "      <td>86.339996</td>\n",
       "      <td>4.360001</td>\n",
       "      <td>8.590004</td>\n",
       "      <td>12.080002</td>\n",
       "      <td>14.820007</td>\n",
       "    </tr>\n",
       "    <tr>\n",
       "      <th>3</th>\n",
       "      <td>101.360001</td>\n",
       "      <td>97.279999</td>\n",
       "      <td>93.190002</td>\n",
       "      <td>89.690002</td>\n",
       "      <td>86.860001</td>\n",
       "      <td>4.080002</td>\n",
       "      <td>8.169998</td>\n",
       "      <td>11.669998</td>\n",
       "      <td>14.500000</td>\n",
       "    </tr>\n",
       "    <tr>\n",
       "      <th>4</th>\n",
       "      <td>102.959999</td>\n",
       "      <td>98.709999</td>\n",
       "      <td>94.570000</td>\n",
       "      <td>91.110001</td>\n",
       "      <td>88.320000</td>\n",
       "      <td>4.250000</td>\n",
       "      <td>8.389999</td>\n",
       "      <td>11.849998</td>\n",
       "      <td>14.639999</td>\n",
       "    </tr>\n",
       "  </tbody>\n",
       "</table>\n",
       "</div>"
      ],
      "text/plain": [
       "   SPR_FRONT_CLOSING  SPR_3MO_CLOSING  SPR_6MO_CLOSING  SPR_9MO_CLOSING  \\\n",
       "0         105.440002       100.970001        97.029999        93.599998   \n",
       "1         106.410004       101.379997        97.059998        93.400002   \n",
       "2         101.160004        96.800003        92.570000        89.080002   \n",
       "3         101.360001        97.279999        93.190002        89.690002   \n",
       "4         102.959999        98.709999        94.570000        91.110001   \n",
       "\n",
       "   SPR_12MO_CLOSING  3MO_SPREAD  6MO_SPREAD  9MO_SPREAD  12MO_SPREAD  \n",
       "0         90.750000    4.470001    8.410004   11.840004    14.690002  \n",
       "1         90.470001    5.030006    9.350006   13.010002    15.940002  \n",
       "2         86.339996    4.360001    8.590004   12.080002    14.820007  \n",
       "3         86.860001    4.080002    8.169998   11.669998    14.500000  \n",
       "4         88.320000    4.250000    8.389999   11.849998    14.639999  "
      ]
     },
     "execution_count": 299,
     "metadata": {},
     "output_type": "execute_result"
    }
   ],
   "source": [
    "# add columns for timespreads\n",
    "df['3MO_SPREAD'] = df['SPR_FRONT_CLOSING'] - df['SPR_3MO_CLOSING']\n",
    "df['6MO_SPREAD'] = df['SPR_FRONT_CLOSING'] - df['SPR_6MO_CLOSING']\n",
    "df['9MO_SPREAD'] = df['SPR_FRONT_CLOSING'] - df['SPR_9MO_CLOSING']\n",
    "df['12MO_SPREAD'] = df['SPR_FRONT_CLOSING'] - df['SPR_12MO_CLOSING']\n",
    "df.head()"
   ]
  },
  {
   "cell_type": "code",
   "execution_count": 305,
   "metadata": {},
   "outputs": [
    {
     "data": {
      "text/plain": [
       "<AxesSubplot:>"
      ]
     },
     "execution_count": 305,
     "metadata": {},
     "output_type": "execute_result"
    },
    {
     "data": {
      "image/png": "[encoded data removed]",
      "text/plain": [
       "<Figure size 432x288 with 1 Axes>"
      ]
     },
     "metadata": {
      "needs_background": "light"
     },
     "output_type": "display_data"
    }
   ],
   "source": [
    "df.plot.line(y='12MO_SPREAD')"
   ]
  },
  {
   "cell_type": "code",
   "execution_count": null,
   "metadata": {},
   "outputs": [],
   "source": []
  }
 ],
 "metadata": {
  "interpreter": {
   "hash": "06c78d2242897578bb14f7edc94052eed10ff7315852b35430c41c4e2e17fd93"
  },
  "kernelspec": {
   "display_name": "Python 3.8.9 ('venv': venv)",
   "language": "python",
   "name": "python3"
  },
  "language_info": {
   "codemirror_mode": {
    "name": "ipython",
    "version": 3
   },
   "file_extension": ".py",
   "mimetype": "text/x-python",
   "name": "python",
   "nbconvert_exporter": "python",
   "pygments_lexer": "ipython3",
   "version": "3.8.9"
  },
  "orig_nbformat": 4
 },
 "nbformat": 4,
 "nbformat_minor": 2
}
